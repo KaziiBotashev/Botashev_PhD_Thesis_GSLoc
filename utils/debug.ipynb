{
 "cells": [
  {
   "cell_type": "code",
   "execution_count": 1,
   "metadata": {},
   "outputs": [],
   "source": [
    "import json\n",
    "import numpy as np\n",
    "from glob import glob\n",
    "from copy import deepcopy\n",
    "import os"
   ]
  },
  {
   "cell_type": "code",
   "execution_count": 131,
   "metadata": {},
   "outputs": [],
   "source": [
    "with open('/mnt/sdb1/home/kbotashev/mip-nerf_projects/gaussian_splatting_original/gaussian-splatting/output/3DGS_data_planck_1211_van/adjusted_cameras_train.txt') as f:\n",
    "    traj = f.readlines()"
   ]
  },
  {
   "cell_type": "code",
   "execution_count": 143,
   "metadata": {},
   "outputs": [
    {
     "data": {
      "text/plain": [
       "['1.4452338218688965', '0.38011404871940613', '9.376884460449219']"
      ]
     },
     "execution_count": 143,
     "metadata": {},
     "output_type": "execute_result"
    }
   ],
   "source": [
    "traj[0].split('\\n')[0].split(' ')[2:6]\n",
    "traj[0].split('\\n')[0].split(' ')[6:]"
   ]
  },
  {
   "cell_type": "code",
   "execution_count": 147,
   "metadata": {},
   "outputs": [
    {
     "data": {
      "text/plain": [
       "[5, 6, 7]"
      ]
     },
     "execution_count": 147,
     "metadata": {},
     "output_type": "execute_result"
    }
   ],
   "source": [
    "[1,2,3,4,5,6,7][4:]"
   ]
  },
  {
   "cell_type": "code",
   "execution_count": 2,
   "metadata": {},
   "outputs": [],
   "source": [
    "path = '/mnt/sdb1/home/kbotashev/3DGS/gaussian-splatting-lightning/renders/reception_van_render_circle_2_small.json'\n",
    "images = sorted(glob(path.replace('json', 'mp4_frames') + '/*'))\n",
    "with open(path) as f:\n",
    "    traj = json.load(fp = f)   \n",
    "camera_traj = traj['camera_path']\n",
    "# for id, cam_info in enumerate(camera_traj):\n",
    "#     R = np.array(cam_info['camera_to_world']).reshape(4,4)[:-1,:-1]\n",
    "#     t = np.array(cam_info['camera_to_world']).reshape(4,4)[:-1,-1]\n",
    "#     fovx, fovy = np.deg2rad(cam_info['fov']), np.deg2rad(cam_info['fov'])\n",
    "#     image = images[id]\n",
    "\n",
    "    # Camera(colmap_id=id, R=R, T=t, \n",
    "    #               FoVx=cam_info.FovX, FoVy=cam_info.FovY, \n",
    "    #               image=image, gt_alpha_mask=None,\n",
    "    #               image_name=cam_info.image_name, uid=id, data_device=args.data_device)\n"
   ]
  },
  {
   "cell_type": "code",
   "execution_count": 3,
   "metadata": {},
   "outputs": [],
   "source": [
    "new_traj = deepcopy(traj)"
   ]
  },
  {
   "cell_type": "code",
   "execution_count": 4,
   "metadata": {},
   "outputs": [],
   "source": [
    "new_path = '/mnt/sdb1/home/kbotashev/cvpr_paper/outputs/output/data_nerf_synthetic_hq_reception_mupltiple_gaussian_splatting_pa/adjusted_cameras_testreception_van_render_circle_2_small_final.txt'"
   ]
  },
  {
   "cell_type": "code",
   "execution_count": 5,
   "metadata": {},
   "outputs": [],
   "source": [
    "def qtvec_to_T(qtvec):\n",
    "    T = np.eye(4)\n",
    "    qvec = qtvec[:4]\n",
    "    tvec = qtvec[4:]\n",
    "    R = qvec2rotmat(qvec)\n",
    "    T[:-1,:-1] = R\n",
    "    T[:-1, -1] = tvec\n",
    "    return np.linalg.inv(T)\n",
    "\n",
    "def rot_t_to_T(t, R):\n",
    "    T = np.eye(4)\n",
    "    T[:-1,:-1] = R\n",
    "    T[:-1, -1] = t\n",
    "    return np.linalg.inv(T)\n",
    "\n",
    "def read_json_poses(file_path):\n",
    "    # Opening JSON file\n",
    "    with open(file_path) as f:\n",
    "        data = json.load(f)\n",
    "    traj = {pose_info['img_name'] : rot_t_to_T(np.array(pose_info['position'], dtype=np.float64),\n",
    "                                               np.array(pose_info['rotation'], dtype=np.float64)) for pose_info in data}\n",
    "    return traj\n",
    "\n",
    "def read_txt_poses(file_path):\n",
    "    with open(file_path) as file:\n",
    "        adj_train_traj_raw = file.readlines()\n",
    "\n",
    "    adj_train_traj = [line.split('\\n')[0].split(' ')[1:] for line in  adj_train_traj_raw]\n",
    "    adj_train_traj_dict = {line_list[0] : qtvec_to_T(np.array(line_list[1:], dtype=np.float64)) for line_list in adj_train_traj}\n",
    "    return adj_train_traj_dict\n",
    "\n",
    "def qvec2rotmat(qvec):\n",
    "    return np.array([\n",
    "        [\n",
    "            1 - 2 * qvec[2]**2 - 2 * qvec[3]**2,\n",
    "            2 * qvec[1] * qvec[2] - 2 * qvec[0] * qvec[3],\n",
    "            2 * qvec[3] * qvec[1] + 2 * qvec[0] * qvec[2]\n",
    "        ], [\n",
    "            2 * qvec[1] * qvec[2] + 2 * qvec[0] * qvec[3],\n",
    "            1 - 2 * qvec[1]**2 - 2 * qvec[3]**2,\n",
    "            2 * qvec[2] * qvec[3] - 2 * qvec[0] * qvec[1]\n",
    "        ], [\n",
    "            2 * qvec[3] * qvec[1] - 2 * qvec[0] * qvec[2],\n",
    "            2 * qvec[2] * qvec[3] + 2 * qvec[0] * qvec[1],\n",
    "            1 - 2 * qvec[1]**2 - 2 * qvec[2]**2\n",
    "        ]\n",
    "    ])"
   ]
  },
  {
   "cell_type": "code",
   "execution_count": 6,
   "metadata": {},
   "outputs": [],
   "source": [
    "new_traj_dict = read_txt_poses(new_path)"
   ]
  },
  {
   "cell_type": "code",
   "execution_count": 7,
   "metadata": {},
   "outputs": [
    {
     "data": {
      "text/plain": [
       "dict_keys(['keyframes', 'camera_type', 'render_height', 'render_width', 'fps', 'seconds', 'is_cycle', 'smoothness_value', 'orientation_transform', 'enable_transform', 'background_color', 'sh_degree', 'camera_path'])"
      ]
     },
     "execution_count": 7,
     "metadata": {},
     "output_type": "execute_result"
    }
   ],
   "source": [
    "new_traj.keys()"
   ]
  },
  {
   "cell_type": "code",
   "execution_count": 8,
   "metadata": {},
   "outputs": [],
   "source": [
    "new_traj['render_height'] = 1080\n",
    "new_traj['render_width'] = 1920"
   ]
  },
  {
   "cell_type": "code",
   "execution_count": 9,
   "metadata": {},
   "outputs": [],
   "source": [
    "savedir = '/mnt/sdb1/home/kbotashev/3DGS/gaussian-splatting-lightning/camera_paths'"
   ]
  },
  {
   "cell_type": "code",
   "execution_count": 10,
   "metadata": {},
   "outputs": [],
   "source": [
    "with open(os.path.join(savedir, \"van_traj.json\"), \"w\") as outfile:\n",
    "    json.dump(new_traj, outfile)"
   ]
  },
  {
   "cell_type": "code",
   "execution_count": 11,
   "metadata": {},
   "outputs": [],
   "source": [
    "for i, img_id in enumerate(sorted(new_traj_dict.keys())):\n",
    "    new_T = ((new_traj_dict[img_id])@np.diag([1,-1,-1,1])).reshape(-1).tolist()\n",
    "    new_traj['camera_path'][i]['camera_to_world'] = new_T"
   ]
  },
  {
   "cell_type": "code",
   "execution_count": 12,
   "metadata": {},
   "outputs": [],
   "source": [
    "with open(os.path.join(savedir, \"pa_traj.json\"), \"w\") as outfile:\n",
    "    json.dump(new_traj, outfile)"
   ]
  },
  {
   "cell_type": "code",
   "execution_count": 6,
   "metadata": {},
   "outputs": [],
   "source": [
    "from general_utils import get_expon_lr_func\n",
    "import matplotlib.pyplot as plt"
   ]
  },
  {
   "cell_type": "code",
   "execution_count": 119,
   "metadata": {},
   "outputs": [],
   "source": [
    "pose_init_lr = 1e-3\n",
    "pose_final_lr = 1e-6\n",
    "pose_decay_ratio = 0.2\n",
    "pose_length = 1000\n",
    "\n",
    "gaussians_init_lr = 1e-3\n",
    "gaussians_final_lr = 1e-8\n",
    "gaussians_decay_ratio = 0.4\n",
    "gaussians_length = 2000\n",
    "\n",
    "max_steps = 40000\n"
   ]
  },
  {
   "cell_type": "code",
   "execution_count": 124,
   "metadata": {},
   "outputs": [],
   "source": [
    "num_subiterations = math.ceil(max_steps/(pose_length+gaussians_length))"
   ]
  },
  {
   "cell_type": "code",
   "execution_count": 123,
   "metadata": {},
   "outputs": [],
   "source": [
    "import math"
   ]
  },
  {
   "cell_type": "code",
   "execution_count": 125,
   "metadata": {},
   "outputs": [
    {
     "data": {
      "text/plain": [
       "14"
      ]
     },
     "execution_count": 125,
     "metadata": {},
     "output_type": "execute_result"
    }
   ],
   "source": [
    "num_subiterations"
   ]
  },
  {
   "cell_type": "code",
   "execution_count": 107,
   "metadata": {},
   "outputs": [],
   "source": [
    "pose_lrs = []\n",
    "gaussians_lrs = []\n",
    "curr_peak_pose_lr = pose_init_lr\n",
    "curr_peak_gaussians_lr = gaussians_init_lr\n",
    "\n",
    "for subiteration in range(int(num_subiterations)):\n",
    "    pose_lr_funct = get_expon_lr_func(curr_peak_pose_lr, 1e-6, 20, 0, pose_length)\n",
    "    gaussians_lr_funct = get_expon_lr_func(curr_peak_gaussians_lr, 1e-6, 20, 0, gaussians_length)\n",
    "    pose_lrs += [0]*gaussians_length\n",
    "    pose_lrs += [pose_lr_funct(it) for it in range(pose_length)]\n",
    "    gaussians_lrs += [gaussians_lr_funct(it) for it in range(gaussians_length)]\n",
    "    gaussians_lrs += [0]*pose_length\n",
    "    curr_peak_pose_lr *= 1 - pose_decay_ratio\n",
    "    curr_peak_gaussians_lr *= 1 - gaussians_decay_ratio"
   ]
  },
  {
   "cell_type": "code",
   "execution_count": 108,
   "metadata": {},
   "outputs": [
    {
     "data": {
      "image/png": "[encoded data removed]",
      "text/plain": [
       "<Figure size 1440x1440 with 1 Axes>"
      ]
     },
     "metadata": {
      "needs_background": "light"
     },
     "output_type": "display_data"
    }
   ],
   "source": [
    "plt.figure(figsize=(20,20))\n",
    "plt.plot(pose_lrs)\n",
    "plt.plot(gaussians_lrs)\n",
    "plt.show()"
   ]
  },
  {
   "cell_type": "code",
   "execution_count": 57,
   "metadata": {},
   "outputs": [],
   "source": [
    "a = get_expon_lr_func(0.01, 1e-9, 20, 0, 1000)"
   ]
  },
  {
   "cell_type": "code",
   "execution_count": 58,
   "metadata": {},
   "outputs": [],
   "source": [
    "k = [a(i) for i in range(1000)]"
   ]
  },
  {
   "cell_type": "code",
   "execution_count": 59,
   "metadata": {},
   "outputs": [
    {
     "data": {
      "text/plain": [
       "[<matplotlib.lines.Line2D at 0x7f27a8ac2750>]"
      ]
     },
     "execution_count": 59,
     "metadata": {},
     "output_type": "execute_result"
    },
    {
     "data": {
      "image/png": "[encoded data removed]",
      "text/plain": [
       "<Figure size 432x288 with 1 Axes>"
      ]
     },
     "metadata": {
      "needs_background": "light"
     },
     "output_type": "display_data"
    }
   ],
   "source": [
    "plt.plot(k)"
   ]
  },
  {
   "cell_type": "code",
   "execution_count": 16,
   "metadata": {},
   "outputs": [],
   "source": [
    "import json\n",
    "import torch"
   ]
  },
  {
   "cell_type": "code",
   "execution_count": 17,
   "metadata": {},
   "outputs": [],
   "source": [
    "noise = {k: (torch.rand(7)*0.2).tolist() for k in range(38)}"
   ]
  },
  {
   "cell_type": "code",
   "execution_count": 9,
   "metadata": {},
   "outputs": [],
   "source": [
    "with open('/mnt/sdb1/home/kbotashev/mip-nerf_projects/gaussian_splatting_original/output_old/tanks_temples_courtroom_colmap_pa-lr-0.0001adaptive_cam_choice/noise.json', 'w') as f:\n",
    "    json.dump(noise, f)"
   ]
  }
 ],
 "metadata": {
  "kernelspec": {
   "display_name": "gaussian_splatting",
   "language": "python",
   "name": "python3"
  },
  "language_info": {
   "codemirror_mode": {
    "name": "ipython",
    "version": 3
   },
   "file_extension": ".py",
   "mimetype": "text/x-python",
   "name": "python",
   "nbconvert_exporter": "python",
   "pygments_lexer": "ipython3",
   "version": "3.7.13"
  }
 },
 "nbformat": 4,
 "nbformat_minor": 2
}
