{
 "cells": [
  {
   "cell_type": "code",
   "execution_count": 7,
   "metadata": {},
   "outputs": [],
   "source": [
    "import torch\n",
    "import mrob\n",
    "import numpy as np\n",
    "import pypose as pp"
   ]
  },
  {
   "cell_type": "code",
   "execution_count": 8,
   "metadata": {},
   "outputs": [],
   "source": [
    "xi = np.random.rand(6)*5\n",
    "x = np.random.rand(3)*10\n",
    "\n",
    "T = mrob.geometry.SE3(xi)"
   ]
  },
  {
   "cell_type": "code",
   "execution_count": 9,
   "metadata": {},
   "outputs": [],
   "source": [
    "def finite_difference_grad(xi, function, eps=1e-9, **kwargs):\n",
    "    T = mrob.geometry.SE3(xi)\n",
    "    result = []\n",
    "    for d_xi in np.eye(6)*eps:\n",
    "        dT = mrob.geometry.SE3(d_xi)\n",
    "        L1 = function(dT.mul(T), **kwargs)\n",
    "        L0 = function(T, **kwargs)\n",
    "        result.append((L1-L0)/eps)\n",
    "    return np.array(result[3:] + result[:3]).T"
   ]
  },
  {
   "cell_type": "markdown",
   "metadata": {},
   "source": [
    "### Gradient of $t_k = Tx_k$ wrt to T"
   ]
  },
  {
   "cell_type": "code",
   "execution_count": 10,
   "metadata": {},
   "outputs": [],
   "source": [
    "def function1(T, x):\n",
    "    p = T.transform(x)\n",
    "    return p @ p.T\n",
    "    # return p"
   ]
  },
  {
   "cell_type": "code",
   "execution_count": 11,
   "metadata": {},
   "outputs": [],
   "source": [
    "num1 = finite_difference_grad(xi=xi, function=function1, x = x)"
   ]
  },
  {
   "cell_type": "code",
   "execution_count": 12,
   "metadata": {},
   "outputs": [],
   "source": [
    "p = T.transform(x)\n",
    "analyt1 = 2 * p @ np.concatenate((np.eye(3), -mrob.hat3(p)), 1)\n",
    "# analyt1 = np.concatenate((np.eye(3), -mrob.hat3(p)), 1)"
   ]
  },
  {
   "cell_type": "code",
   "execution_count": 13,
   "metadata": {},
   "outputs": [
    {
     "data": {
      "text/plain": [
       "array([ 1.59271991e+01,  1.08368567e+01,  5.80079984e+00,  1.42108547e-05,\n",
       "       -1.42108547e-05, -2.84217094e-05])"
      ]
     },
     "execution_count": 13,
     "metadata": {},
     "output_type": "execute_result"
    }
   ],
   "source": [
    "num1"
   ]
  },
  {
   "cell_type": "code",
   "execution_count": 14,
   "metadata": {},
   "outputs": [
    {
     "data": {
      "text/plain": [
       "array([ 1.59271983e+01,  1.08368614e+01,  5.80080128e+00,  1.00445894e-15,\n",
       "       -3.03376134e-15,  5.48052066e-15])"
      ]
     },
     "execution_count": 14,
     "metadata": {},
     "output_type": "execute_result"
    }
   ],
   "source": [
    "analyt1"
   ]
  },
  {
   "cell_type": "code",
   "execution_count": 15,
   "metadata": {},
   "outputs": [],
   "source": [
    "class PoseTransform(torch.nn.Module):\n",
    "     def __init__(self, pose : pp.SE3):\n",
    "         super().__init__()\n",
    "         self.pose = pp.Parameter(pose)\n",
    "\n",
    "     def forward(self, x):\n",
    "         a = self.pose.Act(x)\n",
    "         return a @ a.T"
   ]
  },
  {
   "cell_type": "code",
   "execution_count": 16,
   "metadata": {},
   "outputs": [],
   "source": [
    "T_pp = pp.se3(torch.tensor(xi[3:].tolist() + xi[:3].tolist()).unsqueeze(0).double()).Exp()\n",
    "# self.pose = pp.Parameter(pose)\n",
    "T_pp = PoseTransform(pose = T_pp)\n",
    "\n",
    "x_pp = torch.from_numpy(x).unsqueeze(0)"
   ]
  },
  {
   "cell_type": "code",
   "execution_count": 30,
   "metadata": {},
   "outputs": [],
   "source": [
    "import pypose as pp\n",
    "import torch\n",
    "a = pp.SE3(torch.tensor([1,2,3,4,5,6,9]))"
   ]
  },
  {
   "cell_type": "code",
   "execution_count": 31,
   "metadata": {},
   "outputs": [
    {
     "data": {
      "text/plain": [
       "tensor([[-121,  -68,  138,    1],\n",
       "        [ 148, -103,  -12,    2],\n",
       "        [ -42,  132,  -81,    3],\n",
       "        [   0,    0,    0,    1]])"
      ]
     },
     "execution_count": 31,
     "metadata": {},
     "output_type": "execute_result"
    }
   ],
   "source": [
    "a.matrix()"
   ]
  },
  {
   "cell_type": "code",
   "execution_count": 35,
   "metadata": {},
   "outputs": [],
   "source": [
    "x = pp.randn_SE3(3, sigma=0.1, requires_grad=True, device=\"cuda\")\n",
    "assert x.is_leaf"
   ]
  },
  {
   "cell_type": "code",
   "execution_count": 38,
   "metadata": {},
   "outputs": [
    {
     "data": {
      "text/plain": [
       "tensor([[ 0.7432, -0.5907,  0.1349, -0.2256,  0.7351, -0.4696,  0.0000],\n",
       "        [ 0.9289, -0.0732,  0.6905,  0.0270, -0.0123,  0.0242,  0.0000],\n",
       "        [-0.3188,  0.1124, -0.3118, -0.0804,  0.0774,  0.0594,  0.0000]],\n",
       "       device='cuda:0')"
      ]
     },
     "execution_count": 38,
     "metadata": {},
     "output_type": "execute_result"
    }
   ],
   "source": [
    "loss = (x.Log()**2).sin().sum() # Just test, No physical meaning\n",
    "loss.backward()\n",
    "y = x.detach()\n",
    "loss\n",
    "\n",
    "x.grad"
   ]
  },
  {
   "cell_type": "code",
   "execution_count": 40,
   "metadata": {},
   "outputs": [
    {
     "data": {
      "text/plain": [
       "SE3Type LieTensor:\n",
       "LieTensor([[ 0.1237, -0.0985,  0.0226, -0.0188,  0.0612, -0.0390,  0.9972],\n",
       "           [ 0.1549, -0.0122,  0.1151,  0.0022, -0.0010,  0.0020,  1.0000],\n",
       "           [-0.0531,  0.0187, -0.0520, -0.0067,  0.0064,  0.0049,  0.9999]],\n",
       "          device='cuda:0', requires_grad=True)"
      ]
     },
     "execution_count": 40,
     "metadata": {},
     "output_type": "execute_result"
    }
   ],
   "source": [
    "x.add_"
   ]
  },
  {
   "cell_type": "code",
   "execution_count": 19,
   "metadata": {},
   "outputs": [],
   "source": [
    "loss = T_pp(x_pp)"
   ]
  },
  {
   "cell_type": "code",
   "execution_count": 20,
   "metadata": {},
   "outputs": [],
   "source": [
    "loss.backward()"
   ]
  },
  {
   "cell_type": "code",
   "execution_count": 22,
   "metadata": {},
   "outputs": [
    {
     "data": {
      "text/plain": [
       "tensor([[15.9272, 10.8369,  5.8008,  0.0000,  0.0000,  0.0000,  0.0000]],\n",
       "       dtype=torch.float64)"
      ]
     },
     "execution_count": 22,
     "metadata": {},
     "output_type": "execute_result"
    }
   ],
   "source": [
    "T_pp.pose.grad"
   ]
  },
  {
   "cell_type": "code",
   "execution_count": null,
   "metadata": {},
   "outputs": [],
   "source": [
    "T_pp."
   ]
  },
  {
   "cell_type": "code",
   "execution_count": 22,
   "metadata": {},
   "outputs": [],
   "source": [
    "auto1 = pp.optim.functional.modjac(T_pp, x_pp)[0].squeeze().numpy()"
   ]
  },
  {
   "cell_type": "code",
   "execution_count": 23,
   "metadata": {},
   "outputs": [
    {
     "data": {
      "text/plain": [
       "True"
      ]
     },
     "execution_count": 23,
     "metadata": {},
     "output_type": "execute_result"
    }
   ],
   "source": [
    "np.allclose(auto1[:-1], analyt1)"
   ]
  },
  {
   "cell_type": "code",
   "execution_count": 24,
   "metadata": {},
   "outputs": [
    {
     "data": {
      "text/plain": [
       "array([25.59251692, 26.71946168,  7.35441911,  0.        ,  0.        ,\n",
       "        0.        ,  0.        ])"
      ]
     },
     "execution_count": 24,
     "metadata": {},
     "output_type": "execute_result"
    }
   ],
   "source": [
    "auto1"
   ]
  },
  {
   "cell_type": "code",
   "execution_count": 20,
   "metadata": {},
   "outputs": [
    {
     "data": {
      "text/plain": [
       "tensor([ 3.9168,  4.7826,  2.1187, -0.1348, -0.1663, -0.0715, -0.9742],\n",
       "       dtype=torch.float64)"
      ]
     },
     "execution_count": 20,
     "metadata": {},
     "output_type": "execute_result"
    }
   ],
   "source": [
    "T_pp.pose[0].data"
   ]
  },
  {
   "cell_type": "markdown",
   "metadata": {},
   "source": [
    "### Gradient of $p_k = h(P,t)$ projection"
   ]
  },
  {
   "cell_type": "code",
   "execution_count": 2,
   "metadata": {},
   "outputs": [],
   "source": [
    "P = np.array([[1,0,2,0],\n",
    "              [0,3,4,0],\n",
    "              [0,0,5,6],\n",
    "              [0,0,7,0]])"
   ]
  },
  {
   "cell_type": "code",
   "execution_count": 3,
   "metadata": {},
   "outputs": [],
   "source": [
    "def h(P,t):\n",
    "    return np.array([P[0,0]/P[3,2] * (t[0]/t[2]) + P[0,2]/P[3,2],\n",
    "                     P[1,1]/P[3,2] * (t[1]/t[2]) + P[1,2]/P[3,2]])"
   ]
  },
  {
   "cell_type": "code",
   "execution_count": null,
   "metadata": {},
   "outputs": [],
   "source": [
    "def function3(T, x, P):\n",
    "    return h(P,T.transform(x))"
   ]
  },
  {
   "cell_type": "code",
   "execution_count": null,
   "metadata": {},
   "outputs": [],
   "source": [
    "num3 = finite_difference_grad(xi, function=function3, x=x, P=P)"
   ]
  },
  {
   "cell_type": "code",
   "execution_count": null,
   "metadata": {},
   "outputs": [],
   "source": [
    "t = T.transform(x)\n",
    "h_ = h(P, t)\n",
    "analyt3 = np.array([[P[0,0]/P[3,2]/t[2], 0, -P[0,0]/P[3,2]*t[0]/t[2]**2, -P[0,0]/P[3,2]*t[0]*t[1]/t[2]**2, P[0,0]/P[3,2] + P[0,0]/P[3,2]*t[0]**2/t[2]**2, -P[0,0]/P[3,2]*t[1]/t[2]],\n",
    "          [0, P[1,1]/P[3,2]/t[2], -P[1,1]/P[3,2]*t[1]/t[2]**2, -P[1,1]/P[3,2] - P[1,1]/P[3,2]*t[1]**2/t[2]**2, P[1,1]/P[3,2]*t[0]*t[1]/t[2]**2, P[1,1]/P[3,2]*t[0]/t[2]]])"
   ]
  },
  {
   "cell_type": "code",
   "execution_count": null,
   "metadata": {},
   "outputs": [
    {
     "data": {
      "text/plain": [
       "True"
      ]
     },
     "metadata": {},
     "output_type": "display_data"
    }
   ],
   "source": [
    "np.allclose(num3, analyt3)"
   ]
  },
  {
   "cell_type": "code",
   "execution_count": 41,
   "metadata": {},
   "outputs": [],
   "source": [
    "import torch"
   ]
  },
  {
   "cell_type": "code",
   "execution_count": 51,
   "metadata": {},
   "outputs": [
    {
     "data": {
      "text/plain": [
       "tensor([[ 1.8174e-07,  1.2421e-07,  6.6726e-07,  ..., -1.0003e-06,\n",
       "          1.2430e-06, -5.3569e-07],\n",
       "        [-1.5877e-07,  2.0543e-07,  3.4050e-07,  ...,  1.3577e-06,\n",
       "         -1.1193e-07,  6.5651e-08],\n",
       "        [ 6.8597e-07, -1.5576e-07, -2.4416e-07,  ..., -6.0891e-08,\n",
       "          1.2766e-06,  7.3729e-07],\n",
       "        ...,\n",
       "        [ 1.6734e-06,  1.1445e-06,  1.3751e-06,  ...,  1.3786e-07,\n",
       "         -1.4341e-06, -7.0434e-08],\n",
       "        [ 9.6750e-08, -1.5462e-07,  1.4729e-07,  ...,  7.2222e-07,\n",
       "          1.2641e-06,  2.2514e-07],\n",
       "        [ 2.0104e-08, -5.9228e-07, -9.6559e-07,  ...,  4.2581e-07,\n",
       "         -2.8512e-07, -3.1146e-07]], device='cuda:0')"
      ]
     },
     "execution_count": 51,
     "metadata": {},
     "output_type": "execute_result"
    },
    {
     "ename": "",
     "evalue": "",
     "output_type": "error",
     "traceback": [
      "\u001b[1;31mThe Kernel crashed while executing code in the the current cell or a previous cell. Please review the code in the cell(s) to identify a possible cause of the failure. Click <a href='https://aka.ms/vscodeJupyterKernelCrash'>here</a> for more info. View Jupyter <a href='command:jupyter.viewOutput'>log</a> for further details."
     ]
    }
   ],
   "source": [
    "torch.linalg.pinv(torch.randn((960*540*3, 7)).cuda())"
   ]
  },
  {
   "cell_type": "code",
   "execution_count": null,
   "metadata": {},
   "outputs": [],
   "source": []
  }
 ],
 "metadata": {
  "kernelspec": {
   "display_name": "3dgs",
   "language": "python",
   "name": "python3"
  },
  "language_info": {
   "codemirror_mode": {
    "name": "ipython",
    "version": 3
   },
   "file_extension": ".py",
   "mimetype": "text/x-python",
   "name": "python",
   "nbconvert_exporter": "python",
   "pygments_lexer": "ipython3",
   "version": "3.10.0"
  }
 },
 "nbformat": 4,
 "nbformat_minor": 2
}
