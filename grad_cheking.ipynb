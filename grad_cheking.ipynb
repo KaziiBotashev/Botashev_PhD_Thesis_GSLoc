{
 "cells": [
  {
   "cell_type": "code",
   "execution_count": 34,
   "metadata": {},
   "outputs": [],
   "source": [
    "import torch\n",
    "# import lietorch\n",
    "import pypose as pp\n",
    "import mrob\n",
    "import numpy as np\n",
    "# import lietorch\n",
    "from grad_utils import mult, mult_mrob"
   ]
  },
  {
   "cell_type": "code",
   "execution_count": 35,
   "metadata": {},
   "outputs": [],
   "source": [
    "a = pp.SE3(pp.se3(torch.randn(6)).Exp())"
   ]
  },
  {
   "cell_type": "code",
   "execution_count": 36,
   "metadata": {},
   "outputs": [
    {
     "name": "stdout",
     "output_type": "stream",
     "text": [
      "SE3Type LieTensor:\n",
      "LieTensor([-0.0074,  0.6383, -1.8424,  0.2250, -0.0997,  0.6023,  0.7594])\n"
     ]
    }
   ],
   "source": [
    "T = a\n",
    "\n",
    "print(T)\n",
    "T = pp.Parameter(T)\n",
    "\n",
    "optimizer = torch.optim.SGD([T], lr=1)\n",
    "optimizer.zero_grad()\n",
    "\n",
    "p = torch.randn(4)\n",
    "t = T.Act(p) \n",
    "loss = t @ t.T\n",
    "loss.backward()"
   ]
  },
  {
   "cell_type": "code",
   "execution_count": 38,
   "metadata": {},
   "outputs": [
    {
     "name": "stdout",
     "output_type": "stream",
     "text": [
      "tensor([-0.1623, -1.0172, -0.1072, -0.5390, -0.1815, -1.3594,  0.0000])\n"
     ]
    }
   ],
   "source": [
    "gg = torch.tensor(pp.randn_se3().tolist() + [0])\n",
    "T.grad = gg\n",
    "print(gg)"
   ]
  },
  {
   "cell_type": "code",
   "execution_count": 39,
   "metadata": {},
   "outputs": [
    {
     "name": "stdout",
     "output_type": "stream",
     "text": [
      "tensor([-0.1623, -1.0172, -0.1072, -0.5390, -0.1815, -1.3594,  0.0000])\n"
     ]
    },
    {
     "data": {
      "text/plain": [
       "SE3Type LieTensor:\n",
       "LieTensor([-1.7725,  1.3114, -0.9250,  0.4649, -0.0196,  0.8737,  0.1420])"
      ]
     },
     "execution_count": 39,
     "metadata": {},
     "output_type": "execute_result"
    }
   ],
   "source": [
    "dxi = pp.SE3(pp.se3(-T.grad.squeeze()[:-1]*1).Exp())\n",
    "\n",
    "print(T.grad)\n",
    "\n",
    "dxi.mul(T.detach())"
   ]
  },
  {
   "cell_type": "code",
   "execution_count": 40,
   "metadata": {},
   "outputs": [],
   "source": [
    "optimizer.step()"
   ]
  },
  {
   "cell_type": "code",
   "execution_count": 43,
   "metadata": {},
   "outputs": [
    {
     "data": {
      "text/plain": [
       "[4, 5]"
      ]
     },
     "execution_count": 43,
     "metadata": {},
     "output_type": "execute_result"
    },
    {
     "ename": "",
     "evalue": "",
     "output_type": "error",
     "traceback": [
      "\u001b[1;31mThe Kernel crashed while executing code in the the current cell or a previous cell. Please review the code in the cell(s) to identify a possible cause of the failure. Click <a href='https://aka.ms/vscodeJupyterKernelCrash'>here</a> for more info. View Jupyter <a href='command:jupyter.viewOutput'>log</a> for further details."
     ]
    }
   ],
   "source": [
    "[1,2,3,4,5][3:]"
   ]
  },
  {
   "cell_type": "code",
   "execution_count": 41,
   "metadata": {},
   "outputs": [
    {
     "data": {
      "text/plain": [
       "SE3Type Parameter:\n",
       "Parameter containing:\n",
       "Parameter(Parameter([-1.7725,  1.3114, -0.9250,  0.4649, -0.0196,  0.8737,  0.1420],\n",
       "          requires_grad=True))"
      ]
     },
     "execution_count": 41,
     "metadata": {},
     "output_type": "execute_result"
    }
   ],
   "source": [
    "T"
   ]
  },
  {
   "cell_type": "code",
   "execution_count": 277,
   "metadata": {},
   "outputs": [
    {
     "data": {
      "text/plain": [
       "tensor([[[ 1.0000,  0.0000,  0.0000,  0.6241],\n",
       "         [ 0.0000,  1.0000,  0.0000, -0.5463],\n",
       "         [ 0.0000,  0.0000,  1.0000, -0.5395],\n",
       "         [ 0.0000,  0.0000,  0.0000,  1.0000]]])"
      ]
     },
     "execution_count": 277,
     "metadata": {},
     "output_type": "execute_result"
    }
   ],
   "source": []
  },
  {
   "cell_type": "code",
   "execution_count": 264,
   "metadata": {},
   "outputs": [
    {
     "data": {
      "text/plain": [
       "tensor([[[  1.0000,   0.0000,   0.0000,   5.7315],\n",
       "         [  0.0000,   1.0000,   0.0000, -12.3233],\n",
       "         [  0.0000,   0.0000,   1.0000,   3.7363],\n",
       "         [  0.0000,   0.0000,   0.0000,   1.0000]]])"
      ]
     },
     "execution_count": 264,
     "metadata": {},
     "output_type": "execute_result"
    }
   ],
   "source": [
    "dxi.matrix()"
   ]
  },
  {
   "cell_type": "code",
   "execution_count": 265,
   "metadata": {},
   "outputs": [
    {
     "data": {
      "text/plain": [
       "tensor([[  5.7315, -12.3233,   3.7363,   0.0000,   0.0000,   0.0000]],\n",
       "       grad_fn=<AddBackward0>)"
      ]
     },
     "execution_count": 265,
     "metadata": {},
     "output_type": "execute_result"
    }
   ],
   "source": [
    "T.add(T.grad)"
   ]
  },
  {
   "cell_type": "code",
   "execution_count": 266,
   "metadata": {},
   "outputs": [
    {
     "data": {
      "text/plain": [
       "tensor([[ 0.8362, -0.5112, -0.1986,  0.6006],\n",
       "        [ 0.5431,  0.8221,  0.1708, -0.4864],\n",
       "        [ 0.0760, -0.2507,  0.9651,  0.0598],\n",
       "        [ 0.0000,  0.0000,  0.0000,  1.0000]], grad_fn=<TransposeBackward0>)"
      ]
     },
     "execution_count": 266,
     "metadata": {},
     "output_type": "execute_result"
    }
   ],
   "source": [
    "T[0].matrix()"
   ]
  },
  {
   "cell_type": "code",
   "execution_count": 219,
   "metadata": {},
   "outputs": [],
   "source": []
  },
  {
   "cell_type": "code",
   "execution_count": 188,
   "metadata": {},
   "outputs": [
    {
     "data": {
      "text/plain": [
       "tensor([[ 0.5917,  0.4512,  0.6681,  0.0770],\n",
       "        [ 0.7851, -0.1345, -0.6046, -0.5809],\n",
       "        [-0.1830,  0.8822, -0.4338,  0.0234],\n",
       "        [ 0.0000,  0.0000,  0.0000,  1.0000]], grad_fn=<TransposeBackward0>)"
      ]
     },
     "execution_count": 188,
     "metadata": {},
     "output_type": "execute_result"
    }
   ],
   "source": [
    "T_[0]"
   ]
  },
  {
   "cell_type": "code",
   "execution_count": 148,
   "metadata": {},
   "outputs": [
    {
     "data": {
      "text/plain": [
       "SE3: size=torch.Size([4]), device=cpu, dtype=torch.float32"
      ]
     },
     "execution_count": 148,
     "metadata": {},
     "output_type": "execute_result"
    }
   ],
   "source": [
    "lietorch.SE3(T)"
   ]
  },
  {
   "cell_type": "code",
   "execution_count": 134,
   "metadata": {},
   "outputs": [],
   "source": [
    "T = lietorch.SE3(T)"
   ]
  },
  {
   "cell_type": "code",
   "execution_count": 105,
   "metadata": {},
   "outputs": [
    {
     "data": {
      "text/plain": [
       "<module 'lietorch' from '/mnt/sdb1/home/kbotashev/anaconda3/envs/gaussian_splatting/lib/python3.7/site-packages/lietorch/__init__.py'>"
      ]
     },
     "execution_count": 105,
     "metadata": {},
     "output_type": "execute_result"
    }
   ],
   "source": [
    "lietorch.SE3(torch.f)"
   ]
  },
  {
   "cell_type": "code",
   "execution_count": 237,
   "metadata": {},
   "outputs": [
    {
     "data": {
      "text/plain": [
       "tensor([[ 0.0155, -1.1198, -0.1750,  0.0000,  0.0000,  0.0000]])"
      ]
     },
     "execution_count": 237,
     "metadata": {},
     "output_type": "execute_result"
    }
   ],
   "source": [
    "T.grad"
   ]
  },
  {
   "cell_type": "code",
   "execution_count": null,
   "metadata": {},
   "outputs": [],
   "source": []
  },
  {
   "cell_type": "code",
   "execution_count": null,
   "metadata": {},
   "outputs": [],
   "source": []
  },
  {
   "cell_type": "code",
   "execution_count": null,
   "metadata": {},
   "outputs": [],
   "source": []
  },
  {
   "cell_type": "code",
   "execution_count": null,
   "metadata": {},
   "outputs": [],
   "source": []
  },
  {
   "cell_type": "code",
   "execution_count": 91,
   "metadata": {},
   "outputs": [],
   "source": [
    "xi = torch.rand((1,6), dtype = torch.float64, requires_grad = True)\n",
    "x = torch.rand((1,3), requires_grad=True, dtype = torch.float64)\n",
    "\n",
    "dxi = torch.rand(6, requires_grad=True, dtype = torch.float64)"
   ]
  },
  {
   "cell_type": "code",
   "execution_count": 101,
   "metadata": {},
   "outputs": [],
   "source": [
    "xi_ = pp.se3(xi)\n",
    "xi_.requires_grad_()\n",
    "T = pp.Exp(xi_)\n",
    "dT = pp.Exp(pp.se3(dxi))\n",
    "\n",
    "p = (dT @ T).Act(x)\n",
    "L = p @ p.T\n",
    "L.backward()"
   ]
  },
  {
   "cell_type": "code",
   "execution_count": 102,
   "metadata": {},
   "outputs": [
    {
     "data": {
      "text/plain": [
       "tensor([[ 2.3111,  2.4240,  0.9720,  0.6763, -0.2955, -0.8712]],\n",
       "       dtype=torch.float64)"
      ]
     },
     "execution_count": 102,
     "metadata": {},
     "output_type": "execute_result"
    }
   ],
   "source": [
    "xi.grad"
   ]
  },
  {
   "cell_type": "code",
   "execution_count": 103,
   "metadata": {},
   "outputs": [
    {
     "ename": "TypeError",
     "evalue": "__init__(): incompatible constructor arguments. The following argument types are supported:\n    1. mrob.pybind.geometry.SE3()\n    2. mrob.pybind.geometry.SE3(arg0: numpy.ndarray[numpy.float64[4, 4]])\n    3. mrob.pybind.geometry.SE3(arg0: numpy.ndarray[numpy.float64[6, 1]])\n    4. mrob.pybind.geometry.SE3(arg0: mrob.pybind.geometry.SE3)\n    5. mrob.pybind.geometry.SE3(arg0: mrob::SO3, arg1: numpy.ndarray[numpy.float64[3, 1]])\n\nInvoked with: [[0.0, 0.0, 0.0, 0.0, 0.0, 0.0]]",
     "output_type": "error",
     "traceback": [
      "\u001b[0;31m---------------------------------------------------------------------------\u001b[0m",
      "\u001b[0;31mTypeError\u001b[0m                                 Traceback (most recent call last)",
      "\u001b[0;32m<ipython-input-103-9c7aaf7f5c26>\u001b[0m in \u001b[0;36m<module>\u001b[0;34m\u001b[0m\n\u001b[1;32m      1\u001b[0m \u001b[0mxi_mrob\u001b[0m \u001b[0;34m=\u001b[0m \u001b[0mxi\u001b[0m\u001b[0;34m.\u001b[0m\u001b[0mtolist\u001b[0m\u001b[0;34m(\u001b[0m\u001b[0;34m)\u001b[0m\u001b[0;34m[\u001b[0m\u001b[0;36m3\u001b[0m\u001b[0;34m:\u001b[0m\u001b[0;34m]\u001b[0m \u001b[0;34m+\u001b[0m \u001b[0mxi\u001b[0m\u001b[0;34m.\u001b[0m\u001b[0mtolist\u001b[0m\u001b[0;34m(\u001b[0m\u001b[0;34m)\u001b[0m\u001b[0;34m[\u001b[0m\u001b[0;34m:\u001b[0m\u001b[0;36m3\u001b[0m\u001b[0;34m]\u001b[0m\u001b[0;34m\u001b[0m\u001b[0;34m\u001b[0m\u001b[0m\n\u001b[1;32m      2\u001b[0m \u001b[0mx_mrob\u001b[0m \u001b[0;34m=\u001b[0m \u001b[0mnp\u001b[0m\u001b[0;34m.\u001b[0m\u001b[0marray\u001b[0m\u001b[0;34m(\u001b[0m\u001b[0mx\u001b[0m\u001b[0;34m.\u001b[0m\u001b[0mtolist\u001b[0m\u001b[0;34m(\u001b[0m\u001b[0;34m)\u001b[0m\u001b[0;34m)\u001b[0m\u001b[0;34m\u001b[0m\u001b[0;34m\u001b[0m\u001b[0m\n\u001b[0;32m----> 3\u001b[0;31m \u001b[0mtorch\u001b[0m\u001b[0;34m.\u001b[0m\u001b[0mtensor\u001b[0m\u001b[0;34m(\u001b[0m\u001b[0mmult_mrob\u001b[0m\u001b[0;34m(\u001b[0m\u001b[0mxi_mrob\u001b[0m\u001b[0;34m,\u001b[0m \u001b[0mx_mrob\u001b[0m\u001b[0;34m)\u001b[0m\u001b[0;34m.\u001b[0m\u001b[0mtolist\u001b[0m\u001b[0;34m(\u001b[0m\u001b[0;34m)\u001b[0m\u001b[0;34m[\u001b[0m\u001b[0;36m3\u001b[0m\u001b[0;34m:\u001b[0m\u001b[0;34m]\u001b[0m \u001b[0;34m+\u001b[0m \u001b[0mmult_mrob\u001b[0m\u001b[0;34m(\u001b[0m\u001b[0mxi_mrob\u001b[0m\u001b[0;34m,\u001b[0m \u001b[0mx_mrob\u001b[0m\u001b[0;34m)\u001b[0m\u001b[0;34m.\u001b[0m\u001b[0mtolist\u001b[0m\u001b[0;34m(\u001b[0m\u001b[0;34m)\u001b[0m\u001b[0;34m[\u001b[0m\u001b[0;34m:\u001b[0m\u001b[0;36m3\u001b[0m\u001b[0;34m]\u001b[0m\u001b[0;34m)\u001b[0m\u001b[0;34m\u001b[0m\u001b[0;34m\u001b[0m\u001b[0m\n\u001b[0m",
      "\u001b[0;32m/mnt/sdb1/home/kbotashev/mip-nerf_projects/gaussian_splatting_original/gaussian-splatting/grad_utils.py\u001b[0m in \u001b[0;36mmult_mrob\u001b[0;34m(xi, x, eps)\u001b[0m\n\u001b[1;32m     26\u001b[0m     \u001b[0;32mfor\u001b[0m \u001b[0mdxi\u001b[0m \u001b[0;32min\u001b[0m \u001b[0mnp\u001b[0m\u001b[0;34m.\u001b[0m\u001b[0meye\u001b[0m\u001b[0;34m(\u001b[0m\u001b[0;36m6\u001b[0m\u001b[0;34m)\u001b[0m\u001b[0;34m*\u001b[0m\u001b[0meps\u001b[0m\u001b[0;34m:\u001b[0m\u001b[0;34m\u001b[0m\u001b[0;34m\u001b[0m\u001b[0m\n\u001b[1;32m     27\u001b[0m \u001b[0;34m\u001b[0m\u001b[0m\n\u001b[0;32m---> 28\u001b[0;31m         \u001b[0mxi_\u001b[0m \u001b[0;34m=\u001b[0m \u001b[0mmrob\u001b[0m\u001b[0;34m.\u001b[0m\u001b[0mgeometry\u001b[0m\u001b[0;34m.\u001b[0m\u001b[0mSE3\u001b[0m\u001b[0;34m(\u001b[0m\u001b[0mxi\u001b[0m\u001b[0;34m)\u001b[0m\u001b[0;34m\u001b[0m\u001b[0;34m\u001b[0m\u001b[0m\n\u001b[0m\u001b[1;32m     29\u001b[0m         \u001b[0mdxi_\u001b[0m \u001b[0;34m=\u001b[0m \u001b[0mmrob\u001b[0m\u001b[0;34m.\u001b[0m\u001b[0mgeometry\u001b[0m\u001b[0;34m.\u001b[0m\u001b[0mSE3\u001b[0m\u001b[0;34m(\u001b[0m\u001b[0mdxi\u001b[0m\u001b[0;34m)\u001b[0m\u001b[0;34m\u001b[0m\u001b[0;34m\u001b[0m\u001b[0m\n\u001b[1;32m     30\u001b[0m         \u001b[0mp\u001b[0m \u001b[0;34m=\u001b[0m \u001b[0;34m(\u001b[0m\u001b[0mdxi_\u001b[0m\u001b[0;34m.\u001b[0m\u001b[0mmul\u001b[0m\u001b[0;34m(\u001b[0m\u001b[0mxi_\u001b[0m\u001b[0;34m)\u001b[0m\u001b[0;34m)\u001b[0m\u001b[0;34m.\u001b[0m\u001b[0mtransform\u001b[0m\u001b[0;34m(\u001b[0m\u001b[0mx\u001b[0m\u001b[0;34m)\u001b[0m\u001b[0;34m\u001b[0m\u001b[0;34m\u001b[0m\u001b[0m\n",
      "\u001b[0;31mTypeError\u001b[0m: __init__(): incompatible constructor arguments. The following argument types are supported:\n    1. mrob.pybind.geometry.SE3()\n    2. mrob.pybind.geometry.SE3(arg0: numpy.ndarray[numpy.float64[4, 4]])\n    3. mrob.pybind.geometry.SE3(arg0: numpy.ndarray[numpy.float64[6, 1]])\n    4. mrob.pybind.geometry.SE3(arg0: mrob.pybind.geometry.SE3)\n    5. mrob.pybind.geometry.SE3(arg0: mrob::SO3, arg1: numpy.ndarray[numpy.float64[3, 1]])\n\nInvoked with: [[0.0, 0.0, 0.0, 0.0, 0.0, 0.0]]"
     ]
    }
   ],
   "source": [
    "xi_mrob = xi.tolist()[3:] + xi.tolist()[:3]\n",
    "x_mrob = np.array(x.tolist())\n",
    "torch.tensor(mult_mrob(xi_mrob, x_mrob).tolist()[3:] + mult_mrob(xi_mrob, x_mrob).tolist()[:3])"
   ]
  },
  {
   "cell_type": "code",
   "execution_count": 52,
   "metadata": {},
   "outputs": [
    {
     "ename": "TypeError",
     "evalue": "__init__(): incompatible constructor arguments. The following argument types are supported:\n    1. mrob.pybind.geometry.SE3()\n    2. mrob.pybind.geometry.SE3(arg0: numpy.ndarray[numpy.float64[4, 4]])\n    3. mrob.pybind.geometry.SE3(arg0: numpy.ndarray[numpy.float64[6, 1]])\n    4. mrob.pybind.geometry.SE3(arg0: mrob.pybind.geometry.SE3)\n    5. mrob.pybind.geometry.SE3(arg0: mrob::SO3, arg1: numpy.ndarray[numpy.float64[3, 1]])\n\nInvoked with: [[0.0, 0.0, 0.0, 0.0, 0.0, 0.0]]",
     "output_type": "error",
     "traceback": [
      "\u001b[0;31m---------------------------------------------------------------------------\u001b[0m",
      "\u001b[0;31mTypeError\u001b[0m                                 Traceback (most recent call last)",
      "\u001b[0;32m<ipython-input-52-9c7aaf7f5c26>\u001b[0m in \u001b[0;36m<module>\u001b[0;34m\u001b[0m\n\u001b[1;32m      1\u001b[0m \u001b[0mxi_mrob\u001b[0m \u001b[0;34m=\u001b[0m \u001b[0mxi\u001b[0m\u001b[0;34m.\u001b[0m\u001b[0mtolist\u001b[0m\u001b[0;34m(\u001b[0m\u001b[0;34m)\u001b[0m\u001b[0;34m[\u001b[0m\u001b[0;36m3\u001b[0m\u001b[0;34m:\u001b[0m\u001b[0;34m]\u001b[0m \u001b[0;34m+\u001b[0m \u001b[0mxi\u001b[0m\u001b[0;34m.\u001b[0m\u001b[0mtolist\u001b[0m\u001b[0;34m(\u001b[0m\u001b[0;34m)\u001b[0m\u001b[0;34m[\u001b[0m\u001b[0;34m:\u001b[0m\u001b[0;36m3\u001b[0m\u001b[0;34m]\u001b[0m\u001b[0;34m\u001b[0m\u001b[0;34m\u001b[0m\u001b[0m\n\u001b[1;32m      2\u001b[0m \u001b[0mx_mrob\u001b[0m \u001b[0;34m=\u001b[0m \u001b[0mnp\u001b[0m\u001b[0;34m.\u001b[0m\u001b[0marray\u001b[0m\u001b[0;34m(\u001b[0m\u001b[0mx\u001b[0m\u001b[0;34m.\u001b[0m\u001b[0mtolist\u001b[0m\u001b[0;34m(\u001b[0m\u001b[0;34m)\u001b[0m\u001b[0;34m)\u001b[0m\u001b[0;34m\u001b[0m\u001b[0;34m\u001b[0m\u001b[0m\n\u001b[0;32m----> 3\u001b[0;31m \u001b[0mtorch\u001b[0m\u001b[0;34m.\u001b[0m\u001b[0mtensor\u001b[0m\u001b[0;34m(\u001b[0m\u001b[0mmult_mrob\u001b[0m\u001b[0;34m(\u001b[0m\u001b[0mxi_mrob\u001b[0m\u001b[0;34m,\u001b[0m \u001b[0mx_mrob\u001b[0m\u001b[0;34m)\u001b[0m\u001b[0;34m.\u001b[0m\u001b[0mtolist\u001b[0m\u001b[0;34m(\u001b[0m\u001b[0;34m)\u001b[0m\u001b[0;34m[\u001b[0m\u001b[0;36m3\u001b[0m\u001b[0;34m:\u001b[0m\u001b[0;34m]\u001b[0m \u001b[0;34m+\u001b[0m \u001b[0mmult_mrob\u001b[0m\u001b[0;34m(\u001b[0m\u001b[0mxi_mrob\u001b[0m\u001b[0;34m,\u001b[0m \u001b[0mx_mrob\u001b[0m\u001b[0;34m)\u001b[0m\u001b[0;34m.\u001b[0m\u001b[0mtolist\u001b[0m\u001b[0;34m(\u001b[0m\u001b[0;34m)\u001b[0m\u001b[0;34m[\u001b[0m\u001b[0;34m:\u001b[0m\u001b[0;36m3\u001b[0m\u001b[0;34m]\u001b[0m\u001b[0;34m)\u001b[0m\u001b[0;34m\u001b[0m\u001b[0;34m\u001b[0m\u001b[0m\n\u001b[0m",
      "\u001b[0;32m/mnt/sdb1/home/kbotashev/mip-nerf_projects/gaussian_splatting_original/gaussian-splatting/grad_utils.py\u001b[0m in \u001b[0;36mmult_mrob\u001b[0;34m(xi, x, eps)\u001b[0m\n\u001b[1;32m     26\u001b[0m     \u001b[0;32mfor\u001b[0m \u001b[0mdxi\u001b[0m \u001b[0;32min\u001b[0m \u001b[0mnp\u001b[0m\u001b[0;34m.\u001b[0m\u001b[0meye\u001b[0m\u001b[0;34m(\u001b[0m\u001b[0;36m6\u001b[0m\u001b[0;34m)\u001b[0m\u001b[0;34m*\u001b[0m\u001b[0meps\u001b[0m\u001b[0;34m:\u001b[0m\u001b[0;34m\u001b[0m\u001b[0;34m\u001b[0m\u001b[0m\n\u001b[1;32m     27\u001b[0m \u001b[0;34m\u001b[0m\u001b[0m\n\u001b[0;32m---> 28\u001b[0;31m         \u001b[0mxi_\u001b[0m \u001b[0;34m=\u001b[0m \u001b[0mmrob\u001b[0m\u001b[0;34m.\u001b[0m\u001b[0mgeometry\u001b[0m\u001b[0;34m.\u001b[0m\u001b[0mSE3\u001b[0m\u001b[0;34m(\u001b[0m\u001b[0mxi\u001b[0m\u001b[0;34m)\u001b[0m\u001b[0;34m\u001b[0m\u001b[0;34m\u001b[0m\u001b[0m\n\u001b[0m\u001b[1;32m     29\u001b[0m         \u001b[0mdxi_\u001b[0m \u001b[0;34m=\u001b[0m \u001b[0mmrob\u001b[0m\u001b[0;34m.\u001b[0m\u001b[0mgeometry\u001b[0m\u001b[0;34m.\u001b[0m\u001b[0mSE3\u001b[0m\u001b[0;34m(\u001b[0m\u001b[0mdxi\u001b[0m\u001b[0;34m)\u001b[0m\u001b[0;34m\u001b[0m\u001b[0;34m\u001b[0m\u001b[0m\n\u001b[1;32m     30\u001b[0m         \u001b[0mp\u001b[0m \u001b[0;34m=\u001b[0m \u001b[0;34m(\u001b[0m\u001b[0mdxi_\u001b[0m\u001b[0;34m.\u001b[0m\u001b[0mmul\u001b[0m\u001b[0;34m(\u001b[0m\u001b[0mxi_\u001b[0m\u001b[0;34m)\u001b[0m\u001b[0;34m)\u001b[0m\u001b[0;34m.\u001b[0m\u001b[0mtransform\u001b[0m\u001b[0;34m(\u001b[0m\u001b[0mx\u001b[0m\u001b[0;34m)\u001b[0m\u001b[0;34m\u001b[0m\u001b[0;34m\u001b[0m\u001b[0m\n",
      "\u001b[0;31mTypeError\u001b[0m: __init__(): incompatible constructor arguments. The following argument types are supported:\n    1. mrob.pybind.geometry.SE3()\n    2. mrob.pybind.geometry.SE3(arg0: numpy.ndarray[numpy.float64[4, 4]])\n    3. mrob.pybind.geometry.SE3(arg0: numpy.ndarray[numpy.float64[6, 1]])\n    4. mrob.pybind.geometry.SE3(arg0: mrob.pybind.geometry.SE3)\n    5. mrob.pybind.geometry.SE3(arg0: mrob::SO3, arg1: numpy.ndarray[numpy.float64[3, 1]])\n\nInvoked with: [[0.0, 0.0, 0.0, 0.0, 0.0, 0.0]]"
     ]
    }
   ],
   "source": [
    "xi_mrob = xi.tolist()[3:] + xi.tolist()[:3]\n",
    "x_mrob = np.array(x.tolist())\n",
    "torch.tensor(mult_mrob(xi_mrob, x_mrob).tolist()[3:] + mult_mrob(xi_mrob, x_mrob).tolist()[:3])"
   ]
  },
  {
   "cell_type": "code",
   "execution_count": 54,
   "metadata": {},
   "outputs": [],
   "source": [
    "xi_ = pp.se3(xi)\n",
    "T = pp.Exp(xi_)\n",
    "dT = pp.Exp(pp.se3(dxi))\n",
    "\n",
    "p = (T).Act(x)\n",
    "L = p @ p.T\n",
    "L.backward()"
   ]
  },
  {
   "cell_type": "code",
   "execution_count": 55,
   "metadata": {},
   "outputs": [
    {
     "data": {
      "text/plain": [
       "tensor([[0.8351, 0.6601, 0.4654]], dtype=torch.float64,\n",
       "       grad_fn=<ViewBackward0>)"
      ]
     },
     "execution_count": 55,
     "metadata": {},
     "output_type": "execute_result"
    }
   ],
   "source": [
    "p"
   ]
  },
  {
   "cell_type": "code",
   "execution_count": 60,
   "metadata": {},
   "outputs": [
    {
     "ename": "RuntimeError",
     "evalue": "Tensors must have same number of dimensions: got 2 and 3",
     "output_type": "error",
     "traceback": [
      "\u001b[0;31m---------------------------------------------------------------------------\u001b[0m",
      "\u001b[0;31mRuntimeError\u001b[0m                              Traceback (most recent call last)",
      "\u001b[0;32m<ipython-input-60-abfd7960ae1c>\u001b[0m in \u001b[0;36m<module>\u001b[0;34m\u001b[0m\n\u001b[0;32m----> 1\u001b[0;31m \u001b[0;36m2\u001b[0m \u001b[0;34m*\u001b[0m \u001b[0mp\u001b[0m\u001b[0;34m.\u001b[0m\u001b[0mdouble\u001b[0m\u001b[0;34m(\u001b[0m\u001b[0;34m)\u001b[0m \u001b[0;34m@\u001b[0m \u001b[0mtorch\u001b[0m\u001b[0;34m.\u001b[0m\u001b[0mcat\u001b[0m\u001b[0;34m(\u001b[0m\u001b[0;34m(\u001b[0m\u001b[0mtorch\u001b[0m\u001b[0;34m.\u001b[0m\u001b[0meye\u001b[0m\u001b[0;34m(\u001b[0m\u001b[0;36m3\u001b[0m\u001b[0;34m)\u001b[0m\u001b[0;34m.\u001b[0m\u001b[0mdouble\u001b[0m\u001b[0;34m(\u001b[0m\u001b[0;34m)\u001b[0m\u001b[0;34m,\u001b[0m \u001b[0;34m-\u001b[0m\u001b[0mpp\u001b[0m\u001b[0;34m.\u001b[0m\u001b[0mvec2skew\u001b[0m\u001b[0;34m(\u001b[0m\u001b[0mp\u001b[0m\u001b[0;34m)\u001b[0m\u001b[0;34m)\u001b[0m\u001b[0;34m,\u001b[0m \u001b[0;36m1\u001b[0m\u001b[0;34m)\u001b[0m\u001b[0;34m\u001b[0m\u001b[0;34m\u001b[0m\u001b[0m\n\u001b[0m",
      "\u001b[0;31mRuntimeError\u001b[0m: Tensors must have same number of dimensions: got 2 and 3"
     ]
    }
   ],
   "source": [
    "2 * p.double() @ torch.cat((torch.eye(3).double(), -pp.vec2skew(p)), 1)"
   ]
  },
  {
   "cell_type": "code",
   "execution_count": 61,
   "metadata": {},
   "outputs": [
    {
     "ename": "RuntimeError",
     "evalue": "Tensors must have same number of dimensions: got 2 and 3",
     "output_type": "error",
     "traceback": [
      "\u001b[0;31m---------------------------------------------------------------------------\u001b[0m",
      "\u001b[0;31mRuntimeError\u001b[0m                              Traceback (most recent call last)",
      "\u001b[0;32m<ipython-input-61-3a432dff6522>\u001b[0m in \u001b[0;36m<module>\u001b[0;34m\u001b[0m\n\u001b[0;32m----> 1\u001b[0;31m \u001b[0;36m2\u001b[0m\u001b[0;34m*\u001b[0m \u001b[0mp\u001b[0m \u001b[0;34m@\u001b[0m \u001b[0mtorch\u001b[0m\u001b[0;34m.\u001b[0m\u001b[0mcat\u001b[0m\u001b[0;34m(\u001b[0m\u001b[0;34m(\u001b[0m\u001b[0mtorch\u001b[0m\u001b[0;34m.\u001b[0m\u001b[0meye\u001b[0m\u001b[0;34m(\u001b[0m\u001b[0;36m3\u001b[0m\u001b[0;34m)\u001b[0m\u001b[0;34m.\u001b[0m\u001b[0mdouble\u001b[0m\u001b[0;34m(\u001b[0m\u001b[0;34m)\u001b[0m\u001b[0;34m,\u001b[0m \u001b[0;34m-\u001b[0m\u001b[0mpp\u001b[0m\u001b[0;34m.\u001b[0m\u001b[0mvec2skew\u001b[0m\u001b[0;34m(\u001b[0m\u001b[0;34m(\u001b[0m\u001b[0mdT\u001b[0m \u001b[0;34m@\u001b[0m \u001b[0mT\u001b[0m\u001b[0;34m)\u001b[0m\u001b[0;34m.\u001b[0m\u001b[0mAct\u001b[0m\u001b[0;34m(\u001b[0m\u001b[0mx\u001b[0m\u001b[0;34m)\u001b[0m\u001b[0;34m)\u001b[0m\u001b[0;34m)\u001b[0m\u001b[0;34m,\u001b[0m \u001b[0;36m1\u001b[0m\u001b[0;34m)\u001b[0m\u001b[0;34m\u001b[0m\u001b[0;34m\u001b[0m\u001b[0m\n\u001b[0m",
      "\u001b[0;31mRuntimeError\u001b[0m: Tensors must have same number of dimensions: got 2 and 3"
     ]
    }
   ],
   "source": [
    "2* p @ torch.cat((torch.eye(3).double(), -pp.vec2skew((dT @ T).Act(x))), 1)"
   ]
  },
  {
   "cell_type": "code",
   "execution_count": 77,
   "metadata": {},
   "outputs": [
    {
     "data": {
      "text/plain": [
       "tensor([[ 1.0000,  0.0000,  0.0000,  0.0000,  0.7084, -0.5504],\n",
       "        [ 0.0000,  1.0000,  0.0000, -0.7084,  0.0000,  1.1357],\n",
       "        [ 0.0000,  0.0000,  1.0000,  0.5504, -1.1357,  0.0000]],\n",
       "       dtype=torch.float64, grad_fn=<MmBackward0>)"
      ]
     },
     "execution_count": 77,
     "metadata": {},
     "output_type": "execute_result"
    }
   ],
   "source": [
    "x_hom = torch.cat((x,torch.tensor([1])))\n",
    "torch.kron(x_hom, torch.eye(3)) @ dExpxi_dxi(T.matrix()[:-1,0], T.matrix()[:-1,1], T.matrix()[:-1,2], T.matrix()[:-1,3])[:12]"
   ]
  },
  {
   "cell_type": "code",
   "execution_count": 69,
   "metadata": {},
   "outputs": [
    {
     "data": {
      "text/plain": [
       "tensor([[ 0.0000,  0.0000,  0.0000, -0.1868, -0.2461, -0.1534],\n",
       "        [ 0.4277,  0.0000,  0.0000,  0.6848,  0.1937,  0.9067],\n",
       "        [ 0.0000,  0.4277,  0.0000, -0.0403, -0.3899,  0.1797],\n",
       "        [ 0.0000,  0.0000,  0.4277, -0.5168,  0.1061, -0.7997]],\n",
       "       dtype=torch.float64, grad_fn=<MmBackward0>)"
      ]
     },
     "execution_count": 69,
     "metadata": {},
     "output_type": "execute_result"
    }
   ],
   "source": [
    "torch.kron(x_hom, torch.eye(4)) @ dExpxi_dxi(T.matrix()[:-1,0], T.matrix()[:-1,1], T.matrix()[:-1,2], T.matrix()[:-1,3])"
   ]
  },
  {
   "cell_type": "code",
   "execution_count": null,
   "metadata": {},
   "outputs": [],
   "source": [
    "torch.kron(x_hom, torch.eye(3)) @ dExpxi_dxi(T.matrix()[:-1,0], T.matrix()[:-1,1], T.matrix()[:-1,2], T.matrix()[:-1,3])[:12]"
   ]
  },
  {
   "cell_type": "code",
   "execution_count": 48,
   "metadata": {},
   "outputs": [
    {
     "data": {
      "text/plain": [
       "tensor([1.1357, 0.5504, 0.7084, 1.0000], dtype=torch.float64,\n",
       "       grad_fn=<CatBackward0>)"
      ]
     },
     "execution_count": 48,
     "metadata": {},
     "output_type": "execute_result"
    }
   ],
   "source": [
    "p_hom"
   ]
  },
  {
   "cell_type": "code",
   "execution_count": 8,
   "metadata": {},
   "outputs": [],
   "source": [
    "def dExpxi_dxi(a = torch.tensor([1,0,0]),\n",
    "               b=torch.tensor([0,1,0]),\n",
    "               c=torch.tensor([0,0,1]),\n",
    "               d=torch.tensor([0,0,0])):\n",
    "    result = torch.zeros((16,6))\n",
    "    # result = np.random.rand(16,6)\n",
    "    result[9:12, :3] = torch.eye(3)\n",
    "    \n",
    "    \n",
    "    \n",
    "    result[:3, 3:] = -pp.vec2skew(a)\n",
    "    result[3:6, 3:] = -pp.vec2skew(b)\n",
    "    result[6:9, 3:] = -pp.vec2skew(c)\n",
    "    result[9:12, 3:] = -pp.vec2skew(d)\n",
    "\n",
    "    return result.double()"
   ]
  },
  {
   "cell_type": "code",
   "execution_count": 60,
   "metadata": {},
   "outputs": [
    {
     "data": {
      "text/plain": [
       "tensor([[ 0.0000,  0.0000,  0.0000, -0.0000, -0.1755, -0.1183],\n",
       "        [ 0.0000,  0.0000,  0.0000,  0.1755, -0.0000,  0.9773],\n",
       "        [ 0.0000,  0.0000,  0.0000,  0.1183, -0.9773, -0.0000],\n",
       "        [ 0.0000,  0.0000,  0.0000, -0.0000,  0.2025, -0.9759],\n",
       "        [ 0.0000,  0.0000,  0.0000, -0.2025, -0.0000, -0.0818],\n",
       "        [ 0.0000,  0.0000,  0.0000,  0.9759,  0.0818, -0.0000],\n",
       "        [ 0.0000,  0.0000,  0.0000, -0.0000,  0.9634,  0.1835],\n",
       "        [ 0.0000,  0.0000,  0.0000, -0.9634, -0.0000,  0.1952],\n",
       "        [ 0.0000,  0.0000,  0.0000, -0.1835, -0.1952, -0.0000],\n",
       "        [ 1.0000,  0.0000,  0.0000, -0.0000,  0.3506,  0.0029],\n",
       "        [ 0.0000,  1.0000,  0.0000, -0.3506, -0.0000,  0.1905],\n",
       "        [ 0.0000,  0.0000,  1.0000, -0.0029, -0.1905, -0.0000]],\n",
       "       dtype=torch.float64, grad_fn=<SliceBackward0>)"
      ]
     },
     "execution_count": 60,
     "metadata": {},
     "output_type": "execute_result"
    }
   ],
   "source": [
    "dExpxi_dxi(T.matrix()[:-1,0], T.matrix()[:-1,1], T.matrix()[:-1,2], T.matrix()[:-1,3])[:12]"
   ]
  },
  {
   "cell_type": "code",
   "execution_count": 62,
   "metadata": {},
   "outputs": [
    {
     "data": {
      "text/plain": [
       "tensor([ 0.9773,  0.1183, -0.1755], dtype=torch.float64,\n",
       "       grad_fn=<SelectBackward0>)"
      ]
     },
     "execution_count": 62,
     "metadata": {},
     "output_type": "execute_result"
    }
   ],
   "source": [
    "T.matrix()[:-1,0]"
   ]
  },
  {
   "cell_type": "code",
   "execution_count": 63,
   "metadata": {},
   "outputs": [
    {
     "data": {
      "text/plain": [
       "tensor([[-0.9773,  0.0818, -0.1952, -0.1905],\n",
       "        [-0.1183, -0.9759,  0.1835,  0.0029],\n",
       "        [ 0.1755, -0.2025, -0.9634, -0.3506],\n",
       "        [-0.0000, -0.0000, -0.0000, -1.0000]], dtype=torch.float64,\n",
       "       grad_fn=<NegBackward0>)"
      ]
     },
     "execution_count": 63,
     "metadata": {},
     "output_type": "execute_result"
    }
   ],
   "source": [
    "-T.matrix()"
   ]
  },
  {
   "cell_type": "code",
   "execution_count": 64,
   "metadata": {},
   "outputs": [
    {
     "data": {
      "text/plain": [
       "tensor([[ 1.0000,  0.0000,  0.0000,  0.0000,  0.7084, -0.5504],\n",
       "        [ 0.0000,  1.0000,  0.0000, -0.7084,  0.0000,  1.1357],\n",
       "        [ 0.0000,  0.0000,  1.0000,  0.5504, -1.1357,  0.0000]],\n",
       "       dtype=torch.float64, grad_fn=<MmBackward0>)"
      ]
     },
     "execution_count": 64,
     "metadata": {},
     "output_type": "execute_result"
    }
   ],
   "source": []
  },
  {
   "cell_type": "code",
   "execution_count": 58,
   "metadata": {},
   "outputs": [
    {
     "data": {
      "text/plain": [
       "tensor([1.1357, 0.5504, 0.7084], dtype=torch.float64, grad_fn=<ViewBackward0>)"
      ]
     },
     "execution_count": 58,
     "metadata": {},
     "output_type": "execute_result"
    }
   ],
   "source": [
    "p"
   ]
  },
  {
   "cell_type": "code",
   "execution_count": 40,
   "metadata": {},
   "outputs": [
    {
     "data": {
      "text/plain": [
       "tensor([[ 0.0000,  0.0000,  0.0000,  0.0000, -0.1755, -0.1183],\n",
       "        [ 0.0000,  0.0000,  0.0000,  0.1755,  0.0000,  0.9773],\n",
       "        [ 0.0000,  0.0000,  0.0000,  0.1183, -0.9773,  0.0000],\n",
       "        [ 0.0000,  0.0000,  0.0000,  0.0000,  0.2025, -0.9759],\n",
       "        [ 0.0000,  0.0000,  0.0000, -0.2025,  0.0000, -0.0818],\n",
       "        [ 0.0000,  0.0000,  0.0000,  0.9759,  0.0818,  0.0000],\n",
       "        [ 0.0000,  0.0000,  0.0000,  0.0000,  0.9634,  0.1835],\n",
       "        [ 0.0000,  0.0000,  0.0000, -0.9634,  0.0000,  0.1952],\n",
       "        [ 0.0000,  0.0000,  0.0000, -0.1835, -0.1952,  0.0000],\n",
       "        [ 1.0000,  0.0000,  0.0000,  0.0000,  0.3506,  0.0029],\n",
       "        [ 0.0000,  1.0000,  0.0000, -0.3506,  0.0000,  0.1905],\n",
       "        [ 0.0000,  0.0000,  1.0000, -0.0029, -0.1905,  0.0000]],\n",
       "       dtype=torch.float64, grad_fn=<MmBackward0>)"
      ]
     },
     "execution_count": 40,
     "metadata": {},
     "output_type": "execute_result"
    }
   ],
   "source": [
    "torch.kron(T.matrix().T, torch.eye(3)) @ (torch.kron(T.matrix().T, torch.eye(3)) @ dExpxi_dxi()[:12])"
   ]
  },
  {
   "cell_type": "code",
   "execution_count": 41,
   "metadata": {},
   "outputs": [],
   "source": []
  },
  {
   "cell_type": "code",
   "execution_count": 42,
   "metadata": {},
   "outputs": [
    {
     "data": {
      "text/plain": [
       "tensor([1.1357, 0.5504, 0.7084, 1.0000], dtype=torch.float64,\n",
       "       grad_fn=<CatBackward0>)"
      ]
     },
     "execution_count": 42,
     "metadata": {},
     "output_type": "execute_result"
    }
   ],
   "source": []
  },
  {
   "cell_type": "code",
   "execution_count": 24,
   "metadata": {},
   "outputs": [
    {
     "data": {
      "text/plain": [
       "tensor([[ 0.9773, -0.0818,  0.1952,  0.1905],\n",
       "        [ 0.1183,  0.9759, -0.1835, -0.0029],\n",
       "        [-0.1755,  0.2025,  0.9634,  0.3506],\n",
       "        [ 0.0000,  0.0000,  0.0000,  1.0000]], dtype=torch.float64,\n",
       "       grad_fn=<TransposeBackward0>)"
      ]
     },
     "execution_count": 24,
     "metadata": {},
     "output_type": "execute_result"
    }
   ],
   "source": [
    "T.matrix()"
   ]
  },
  {
   "cell_type": "code",
   "execution_count": 12,
   "metadata": {},
   "outputs": [
    {
     "data": {
      "text/plain": [
       "tensor([[ 0.0000,  0.0000,  0.0000, -0.1868, -0.2461, -0.1534],\n",
       "        [ 0.4277,  0.0000,  0.0000,  0.6848,  0.1937,  0.9067],\n",
       "        [ 0.0000,  0.4277,  0.0000, -0.0403, -0.3899,  0.1797],\n",
       "        [ 0.0000,  0.0000,  0.4277, -0.5168,  0.1061, -0.7997]],\n",
       "       dtype=torch.float64, grad_fn=<PermuteBackward0>)"
      ]
     },
     "execution_count": 12,
     "metadata": {},
     "output_type": "execute_result"
    }
   ],
   "source": [
    "(dExpxi_dxi(T.matrix()[:-1,0], T.matrix()[:-1,1], T.matrix()[:-1,2], T.matrix()[:-1,3]).T @ torch.kron(torch.cat((x,torch.tensor([1]))), torch.eye(4)).T).T"
   ]
  },
  {
   "cell_type": "code",
   "execution_count": 13,
   "metadata": {},
   "outputs": [
    {
     "data": {
      "text/plain": [
       "tensor([[ 0.0000,  0.0000,  0.0000, -0.1868, -0.2461, -0.1534],\n",
       "        [ 0.4277,  0.0000,  0.0000,  0.6848,  0.1937,  0.9067],\n",
       "        [ 0.0000,  0.4277,  0.0000, -0.0403, -0.3899,  0.1797],\n",
       "        [ 0.0000,  0.0000,  0.4277, -0.5168,  0.1061, -0.7997]],\n",
       "       dtype=torch.float64, grad_fn=<MmBackward0>)"
      ]
     },
     "execution_count": 13,
     "metadata": {},
     "output_type": "execute_result"
    }
   ],
   "source": [
    "torch.kron(torch.cat((x,torch.tensor([1]))), torch.eye(4)) @ dExpxi_dxi(T.matrix()[:-1,0], T.matrix()[:-1,1], T.matrix()[:-1,2], T.matrix()[:-1,3])"
   ]
  },
  {
   "cell_type": "code",
   "execution_count": 17,
   "metadata": {},
   "outputs": [
    {
     "data": {
      "text/plain": [
       "tensor([ 0.7799,  1.0038,  1.4169, -0.4949, -0.8293, -1.0212],\n",
       "       dtype=torch.float64, grad_fn=<MvBackward0>)"
      ]
     },
     "execution_count": 17,
     "metadata": {},
     "output_type": "execute_result"
    }
   ],
   "source": [
    "p_hom = torch.cat((p,torch.tensor([1])))\n",
    "2 * (dExpxi_dxi().T @ torch.kron(torch.cat((p,torch.tensor([1]))), torch.eye(4)).T) @ p_hom"
   ]
  },
  {
   "cell_type": "code",
   "execution_count": 14,
   "metadata": {},
   "outputs": [],
   "source": []
  },
  {
   "cell_type": "code",
   "execution_count": 18,
   "metadata": {},
   "outputs": [
    {
     "data": {
      "text/plain": [
       "torch.Size([4, 16])"
      ]
     },
     "execution_count": 18,
     "metadata": {},
     "output_type": "execute_result"
    }
   ],
   "source": [
    "torch.kron(torch.cat((p,torch.tensor([1]))), torch.eye(4)).shape"
   ]
  }
 ],
 "metadata": {
  "kernelspec": {
   "display_name": "gaussian_splatting",
   "language": "python",
   "name": "python3"
  },
  "language_info": {
   "codemirror_mode": {
    "name": "ipython",
    "version": 3
   },
   "file_extension": ".py",
   "mimetype": "text/x-python",
   "name": "python",
   "nbconvert_exporter": "python",
   "pygments_lexer": "ipython3",
   "version": "3.10.0"
  }
 },
 "nbformat": 4,
 "nbformat_minor": 2
}
