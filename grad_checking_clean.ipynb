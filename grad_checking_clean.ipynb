{
 "cells": [
  {
   "cell_type": "code",
   "execution_count": 2,
   "metadata": {},
   "outputs": [],
   "source": [
    "import torch\n",
    "# import lietorch\n",
    "import mrob\n",
    "import numpy as np\n",
    "import lietorch\n",
    "from lietorch import LieGroupParameter\n",
    "# from grad_utils import mult, mult_mrob"
   ]
  },
  {
   "cell_type": "code",
   "execution_count": 5,
   "metadata": {},
   "outputs": [],
   "source": [
    "xi = np.random.rand(6)*5\n",
    "x = np.random.rand(3)*10\n",
    "\n",
    "T = mrob.geometry.SE3(xi)"
   ]
  },
  {
   "cell_type": "code",
   "execution_count": 6,
   "metadata": {},
   "outputs": [],
   "source": [
    "def finite_difference_grad(xi, function, eps=1e-9, **kwargs):\n",
    "    T = mrob.geometry.SE3(xi)\n",
    "    result = []\n",
    "    for d_xi in np.eye(6)*eps:\n",
    "        dT = mrob.geometry.SE3(d_xi)\n",
    "        L1 = function(dT.mul(T), **kwargs)\n",
    "        L0 = function(T, **kwargs)\n",
    "        result.append((L1-L0)/eps)\n",
    "    return np.array(result[3:] + result[:3]).T"
   ]
  },
  {
   "cell_type": "markdown",
   "metadata": {},
   "source": [
    "### Gradient of $t_k = Tx_k$ wrt to T"
   ]
  },
  {
   "cell_type": "code",
   "execution_count": 7,
   "metadata": {},
   "outputs": [],
   "source": [
    "def function1(T, x):\n",
    "    p = T.transform(x)\n",
    "    return p @ p.T"
   ]
  },
  {
   "cell_type": "code",
   "execution_count": 8,
   "metadata": {},
   "outputs": [],
   "source": [
    "num1 = finite_difference_grad(xi=xi, function=function1, x = x)"
   ]
  },
  {
   "cell_type": "code",
   "execution_count": 9,
   "metadata": {},
   "outputs": [],
   "source": [
    "p = T.transform(x)\n",
    "analyt1 = 2 * p @ np.concatenate((np.eye(3), -mrob.hat3(p)), 1)"
   ]
  },
  {
   "cell_type": "code",
   "execution_count": 10,
   "metadata": {},
   "outputs": [
    {
     "name": "stderr",
     "output_type": "stream",
     "text": [
      "/mnt/sdb1/home/kbotashev/anaconda3/envs/3dgs/lib/python3.7/site-packages/ipykernel_launcher.py:8: UserWarning: The use of `x.T` on tensors of dimension other than 2 to reverse their shape is deprecated and it will throw an error in a future release. Consider `x.mT` to transpose batches of matricesor `x.permute(*torch.arange(x.ndim - 1, -1, -1))` to reverse the dimensions of a tensor. (Triggered internally at  /opt/conda/conda-bld/pytorch_1659484801627/work/aten/src/ATen/native/TensorShape.cpp:2981.)\n",
      "  \n"
     ]
    }
   ],
   "source": [
    "# xi_torch = lietorch.SE3.exp(torch.tensor(xi[3:].tolist() + xi[:3].tolist()).unsqueeze(0).double())\n",
    "xi_torch = lietorch.SE3.Random(5).double('cpu')\n",
    "T_auto_ = lietorch.SE3(xi_torch.data)\n",
    "T_auto = lietorch.LieGroupParameter(T_auto_)\n",
    "\n",
    "x_torch = torch.from_numpy(x)\n",
    "p_torch = T_auto[0].act(x_torch) \n",
    "loss = p_torch @ p_torch.T\n",
    "loss.backward()\n",
    "\n",
    "auto1 = T_auto.grad.numpy()"
   ]
  },
  {
   "cell_type": "code",
   "execution_count": 21,
   "metadata": {},
   "outputs": [],
   "source": []
  },
  {
   "cell_type": "code",
   "execution_count": 22,
   "metadata": {},
   "outputs": [],
   "source": []
  },
  {
   "cell_type": "code",
   "execution_count": 1,
   "metadata": {},
   "outputs": [
    {
     "ename": "NameError",
     "evalue": "name 'torch' is not defined",
     "output_type": "error",
     "traceback": [
      "\u001b[0;31m---------------------------------------------------------------------------\u001b[0m",
      "\u001b[0;31mNameError\u001b[0m                                 Traceback (most recent call last)",
      "\u001b[0;32m/tmp/ipykernel_58700/1849241612.py\u001b[0m in \u001b[0;36m<module>\u001b[0;34m\u001b[0m\n\u001b[0;32m----> 1\u001b[0;31m \u001b[0mqtvec\u001b[0m \u001b[0;34m=\u001b[0m \u001b[0mtorch\u001b[0m\u001b[0;34m.\u001b[0m\u001b[0mrand\u001b[0m\u001b[0;34m(\u001b[0m\u001b[0;36m7\u001b[0m\u001b[0;34m)\u001b[0m\u001b[0;34m\u001b[0m\u001b[0;34m\u001b[0m\u001b[0m\n\u001b[0m\u001b[1;32m      2\u001b[0m \u001b[0mqtvec\u001b[0m \u001b[0;34m=\u001b[0m \u001b[0mlietorch\u001b[0m\u001b[0;34m.\u001b[0m\u001b[0mSE3\u001b[0m\u001b[0;34m(\u001b[0m\u001b[0mqtvec\u001b[0m\u001b[0;34m.\u001b[0m\u001b[0munsqueeze\u001b[0m\u001b[0;34m(\u001b[0m\u001b[0;36m0\u001b[0m\u001b[0;34m)\u001b[0m\u001b[0;34m)\u001b[0m\u001b[0;34m\u001b[0m\u001b[0;34m\u001b[0m\u001b[0m\n",
      "\u001b[0;31mNameError\u001b[0m: name 'torch' is not defined"
     ]
    }
   ],
   "source": [
    "qtvec = torch.rand(7)\n",
    "qtvec = lietorch.SE3(qtvec.unsqueeze(0))"
   ]
  },
  {
   "cell_type": "code",
   "execution_count": 34,
   "metadata": {},
   "outputs": [],
   "source": [
    "a = lietorch.LieGroupParameter(qtvec)"
   ]
  },
  {
   "cell_type": "code",
   "execution_count": 35,
   "metadata": {},
   "outputs": [
    {
     "data": {
      "text/plain": [
       "tensor([[0.7997, 0.9751, 0.3839, 0.4138, 0.1855, 0.1410, 0.3533]])"
      ]
     },
     "execution_count": 35,
     "metadata": {},
     "output_type": "execute_result"
    }
   ],
   "source": [
    "qtvec.data"
   ]
  },
  {
   "cell_type": "code",
   "execution_count": 45,
   "metadata": {},
   "outputs": [
    {
     "data": {
      "text/plain": [
       "tensor([0.7997, 0.9751, 0.3839, 0.6991, 0.3134, 0.2383, 0.5969],\n",
       "       grad_fn=<SelectBackward0>)"
      ]
     },
     "execution_count": 45,
     "metadata": {},
     "output_type": "execute_result"
    }
   ],
   "source": [
    "a[0].data"
   ]
  },
  {
   "cell_type": "code",
   "execution_count": 54,
   "metadata": {},
   "outputs": [],
   "source": [
    "c = qtvec.data[0][3:]"
   ]
  },
  {
   "cell_type": "code",
   "execution_count": 55,
   "metadata": {},
   "outputs": [
    {
     "data": {
      "text/plain": [
       "tensor([0.6991, 0.3134, 0.2383, 0.5969])"
      ]
     },
     "execution_count": 55,
     "metadata": {},
     "output_type": "execute_result"
    }
   ],
   "source": [
    "c/torch.linalg.norm(c)"
   ]
  },
  {
   "cell_type": "code",
   "execution_count": 11,
   "metadata": {},
   "outputs": [],
   "source": [
    "xi_torch = lietorch.SE3.Random(1).double('cpu')\n",
    "T_auto_ = lietorch.SE3(xi_torch.data)\n",
    "T_auto1 = lietorch.LieGroupParameter(T_auto_)"
   ]
  },
  {
   "cell_type": "code",
   "execution_count": 25,
   "metadata": {},
   "outputs": [],
   "source": [
    "xi_torch = lietorch.SE3.Random(1).double('cpu')\n",
    "T_auto_ = lietorch.SE3(xi_torch.data)\n",
    "T_auto2 = lietorch.LieGroupParameter(T_auto_)"
   ]
  },
  {
   "cell_type": "code",
   "execution_count": 12,
   "metadata": {},
   "outputs": [
    {
     "name": "stdout",
     "output_type": "stream",
     "text": [
      "tensor([[ 1.0050, -0.0159, -0.4845,  1.0533, -0.1322,  0.2781, -0.4799]])\n"
     ]
    }
   ],
   "source": [
    "data = torch.randn(1,7)\n",
    "print(data)\n",
    "a = lietorch.SE3(data)\n",
    "b = lietorch.LieGroupParameter(a)"
   ]
  },
  {
   "cell_type": "code",
   "execution_count": 33,
   "metadata": {},
   "outputs": [
    {
     "data": {
      "text/plain": [
       "tensor([[[-0.5866,  0.4990, -0.6379, -1.4687],\n",
       "         [-0.8041, -0.2646,  0.5324, -1.0565],\n",
       "         [ 0.0969,  0.8252,  0.5565,  0.0730],\n",
       "         [ 0.0000,  0.0000,  0.0000,  1.0000]]])"
      ]
     },
     "execution_count": 33,
     "metadata": {},
     "output_type": "execute_result"
    }
   ],
   "source": [
    "qvec = torch.tensor([[-1.4687, -1.0565,  0.0730,  0.2187, -0.5488, -0.9733,  0.5268]])\n",
    "lietorch.SE3.InitFromVec(qvec).matrix()"
   ]
  },
  {
   "cell_type": "code",
   "execution_count": 40,
   "metadata": {},
   "outputs": [
    {
     "data": {
      "text/plain": [
       "tensor([[[-0.5866,  0.4990, -0.6379, -1.4687],\n",
       "         [-0.8041, -0.2646,  0.5324, -1.0565],\n",
       "         [ 0.0969,  0.8252,  0.5565,  0.0730],\n",
       "         [ 0.0000,  0.0000,  0.0000,  1.0000]]])"
      ]
     },
     "execution_count": 40,
     "metadata": {},
     "output_type": "execute_result"
    }
   ],
   "source": [
    "qvec = torch.tensor([[-1.4687, -1.0565,  0.0730,  0.2187, -0.5488, -0.9733,  0.5268]])\n",
    "lietorch.SE3.InitFromVec(qvec).matrix()"
   ]
  },
  {
   "cell_type": "code",
   "execution_count": 29,
   "metadata": {},
   "outputs": [
    {
     "data": {
      "text/plain": [
       "tensor([ 0.2797, -0.5209, -0.9508,  0.7729, -0.4066,  0.1601,  0.4600],\n",
       "       dtype=torch.float64, requires_grad=True)"
      ]
     },
     "execution_count": 29,
     "metadata": {},
     "output_type": "execute_result"
    }
   ],
   "source": [
    "T_auto2[0].data.detach().requires_grad_()"
   ]
  },
  {
   "cell_type": "code",
   "execution_count": 17,
   "metadata": {},
   "outputs": [
    {
     "data": {
      "text/plain": [
       "SGD (\n",
       "Parameter Group 0\n",
       "    dampening: 0\n",
       "    differentiable: False\n",
       "    foreach: None\n",
       "    lr: 1\n",
       "    maximize: False\n",
       "    momentum: 0\n",
       "    nesterov: False\n",
       "    weight_decay: 0\n",
       ")"
      ]
     },
     "execution_count": 17,
     "metadata": {},
     "output_type": "execute_result"
    }
   ],
   "source": [
    "torch.optim.SGD([T_auto1, T_auto2], 1)"
   ]
  },
  {
   "cell_type": "code",
   "execution_count": 20,
   "metadata": {},
   "outputs": [
    {
     "data": {
      "text/plain": [
       "tensor([-0.3364,  0.5099,  0.7412, -0.0979,  0.1525, -0.5201,  0.8346],\n",
       "       dtype=torch.float64, grad_fn=<SelectBackward0>)"
      ]
     },
     "execution_count": 20,
     "metadata": {},
     "output_type": "execute_result"
    }
   ],
   "source": [
    "T_auto2[0].data"
   ]
  },
  {
   "cell_type": "code",
   "execution_count": 24,
   "metadata": {},
   "outputs": [
    {
     "data": {
      "text/plain": [
       "tensor([-0.3364,  0.5099,  0.7412,  1.0000], dtype=torch.float64,\n",
       "       grad_fn=<ViewBackward0>)"
      ]
     },
     "execution_count": 24,
     "metadata": {},
     "output_type": "execute_result"
    }
   ],
   "source": [
    "T_auto2[0].translation()"
   ]
  },
  {
   "cell_type": "code",
   "execution_count": 41,
   "metadata": {},
   "outputs": [],
   "source": [
    "T_auto.grad[0] = torch.rand(1,6).double()"
   ]
  },
  {
   "cell_type": "code",
   "execution_count": 42,
   "metadata": {},
   "outputs": [
    {
     "data": {
      "text/plain": [
       "tensor([[0.7141, 0.3225, 0.6857, 0.8883, 0.5394, 0.5021],\n",
       "        [0.0000, 0.0000, 0.0000, 0.0000, 0.0000, 0.0000],\n",
       "        [0.0000, 0.0000, 0.0000, 0.0000, 0.0000, 0.0000],\n",
       "        [0.0000, 0.0000, 0.0000, 0.0000, 0.0000, 0.0000],\n",
       "        [0.0000, 0.0000, 0.0000, 0.0000, 0.0000, 0.0000]], dtype=torch.float64)"
      ]
     },
     "execution_count": 42,
     "metadata": {},
     "output_type": "execute_result"
    }
   ],
   "source": [
    "T_auto.grad"
   ]
  },
  {
   "cell_type": "code",
   "execution_count": 37,
   "metadata": {},
   "outputs": [
    {
     "data": {
      "text/plain": [
       "array([[0.50734645, 0.70757806, 0.09913951, 0.95475626, 0.33081645,\n",
       "        0.86062557],\n",
       "       [0.        , 0.        , 0.        , 0.        , 0.        ,\n",
       "        0.        ],\n",
       "       [0.        , 0.        , 0.        , 0.        , 0.        ,\n",
       "        0.        ],\n",
       "       [0.        , 0.        , 0.        , 0.        , 0.        ,\n",
       "        0.        ],\n",
       "       [0.        , 0.        , 0.        , 0.        , 0.        ,\n",
       "        0.        ]])"
      ]
     },
     "execution_count": 37,
     "metadata": {},
     "output_type": "execute_result"
    }
   ],
   "source": [
    "auto1"
   ]
  },
  {
   "cell_type": "code",
   "execution_count": 78,
   "metadata": {},
   "outputs": [
    {
     "data": {
      "text/plain": [
       "array([-5.60895913e+00,  2.37715881e+01,  2.20276016e+01, -2.13093590e-14,\n",
       "       -2.20416463e-15, -4.84318910e-15])"
      ]
     },
     "execution_count": 78,
     "metadata": {},
     "output_type": "execute_result"
    }
   ],
   "source": [
    "analyt1"
   ]
  },
  {
   "cell_type": "code",
   "execution_count": 90,
   "metadata": {},
   "outputs": [
    {
     "data": {
      "text/plain": [
       "(True, True, True)"
      ]
     },
     "execution_count": 90,
     "metadata": {},
     "output_type": "execute_result"
    }
   ],
   "source": [
    "np.allclose(num1, analyt1, atol=1e-5), np.allclose(analyt1, auto1, atol=1e-5), np.allclose(num1, auto1, atol=1e-5)"
   ]
  },
  {
   "cell_type": "markdown",
   "metadata": {},
   "source": [
    "### Gradient of $dir = \\frac{x_k + W^Td}{||x_k + W^Td||}$"
   ]
  },
  {
   "cell_type": "code",
   "execution_count": 115,
   "metadata": {},
   "outputs": [],
   "source": [
    "def function2(T, x):\n",
    "    d = x - T.inv().transform(np.array([0,0,0]))\n",
    "    d_ = d/np.linalg.norm(d)\n",
    "    return d_ "
   ]
  },
  {
   "cell_type": "code",
   "execution_count": 126,
   "metadata": {},
   "outputs": [],
   "source": [
    "num2 = finite_difference_grad(xi=xi, function=function2, x=x)[:,:3]"
   ]
  },
  {
   "cell_type": "code",
   "execution_count": 127,
   "metadata": {},
   "outputs": [],
   "source": [
    "d = x - T.inv().transform(np.array([0,0,0]))\n",
    "d = np.expand_dims(d,1)"
   ]
  },
  {
   "cell_type": "code",
   "execution_count": 128,
   "metadata": {},
   "outputs": [],
   "source": [
    "analyt2 = (np.eye(3)/np.linalg.norm(d) - (d @ d.T)/np.linalg.norm(d)**3) @ T.R().T"
   ]
  },
  {
   "cell_type": "code",
   "execution_count": 129,
   "metadata": {},
   "outputs": [
    {
     "data": {
      "text/plain": [
       "True"
      ]
     },
     "execution_count": 129,
     "metadata": {},
     "output_type": "execute_result"
    }
   ],
   "source": [
    "np.allclose(num2, analyt2)"
   ]
  },
  {
   "cell_type": "code",
   "execution_count": 130,
   "metadata": {},
   "outputs": [
    {
     "data": {
      "text/plain": [
       "(3, 3)"
      ]
     },
     "execution_count": 130,
     "metadata": {},
     "output_type": "execute_result"
    }
   ],
   "source": [
    "num2.shape"
   ]
  },
  {
   "cell_type": "code",
   "execution_count": 131,
   "metadata": {},
   "outputs": [],
   "source": [
    "xi_torch = lietorch.SE3.exp(torch.tensor(xi[3:].tolist() + xi[:3].tolist()).unsqueeze(0).double())\n",
    "T_auto_ = lietorch.SE3(xi_torch.data)\n",
    "T_auto = lietorch.LieGroupParameter(T_auto_)\n",
    "\n",
    "theta_torch = torch.tensor([0,0,0,1]).double()\n",
    "p_torch = x_torch - T_auto[0].inv().act(theta_torch) \n",
    "p_torch = p_torch/torch.linalg.norm(p_torch)\n",
    "loss = p_torch @ p_torch.T\n",
    "loss.backward()\n",
    "\n",
    "auto2 = T_auto.grad.numpy()"
   ]
  },
  {
   "cell_type": "code",
   "execution_count": 132,
   "metadata": {},
   "outputs": [
    {
     "data": {
      "text/plain": [
       "array([[ 3.08203066e-18,  6.77515128e-18, -1.17128735e-17,\n",
       "         6.16297582e-33,  0.00000000e+00,  7.70371978e-34]])"
      ]
     },
     "execution_count": 132,
     "metadata": {},
     "output_type": "execute_result"
    }
   ],
   "source": [
    "auto2"
   ]
  },
  {
   "cell_type": "code",
   "execution_count": 133,
   "metadata": {},
   "outputs": [
    {
     "data": {
      "text/plain": [
       "array([[-0.01090918, -0.04068635,  0.04112976],\n",
       "       [ 0.03905308,  0.00801074,  0.00129925],\n",
       "       [-0.04411318,  0.00682199, -0.01859477]])"
      ]
     },
     "execution_count": 133,
     "metadata": {},
     "output_type": "execute_result"
    }
   ],
   "source": [
    "num2"
   ]
  },
  {
   "cell_type": "markdown",
   "metadata": {},
   "source": [
    "### Gradient of $p_k = h(P,t)$ projection"
   ]
  },
  {
   "cell_type": "code",
   "execution_count": 13,
   "metadata": {},
   "outputs": [],
   "source": [
    "P = np.array([[1,0,2,0],\n",
    "              [0,3,4,0],\n",
    "              [0,0,5,6],\n",
    "              [0,0,7,0]])"
   ]
  },
  {
   "cell_type": "code",
   "execution_count": 14,
   "metadata": {},
   "outputs": [],
   "source": [
    "def h(P,t):\n",
    "    return np.array([P[0,0]/P[3,2] * (t[0]/t[2]) + P[0,2]/P[3,2],\n",
    "                     P[1,1]/P[3,2] * (t[1]/t[2]) + P[1,2]/P[3,2]])"
   ]
  },
  {
   "cell_type": "code",
   "execution_count": 15,
   "metadata": {},
   "outputs": [],
   "source": [
    "def function3(T, x, P):\n",
    "    return h(P,T.transform(x))"
   ]
  },
  {
   "cell_type": "code",
   "execution_count": 16,
   "metadata": {},
   "outputs": [],
   "source": [
    "num3 = finite_difference_grad(xi, function=function3, x=x, P=P)"
   ]
  },
  {
   "cell_type": "code",
   "execution_count": 17,
   "metadata": {},
   "outputs": [],
   "source": [
    "t = T.transform(x)\n",
    "h_ = h(P, t)\n",
    "analyt3 = np.array([[P[0,0]/P[3,2]/t[2], 0, -P[0,0]/P[3,2]*t[0]/t[2]**2, -P[0,0]/P[3,2]*t[0]*t[1]/t[2]**2, P[0,0]/P[3,2] + P[0,0]/P[3,2]*t[0]**2/t[2]**2, -P[0,0]/P[3,2]*t[1]/t[2]],\n",
    "          [0, P[1,1]/P[3,2]/t[2], -P[1,1]/P[3,2]*t[1]/t[2]**2, -P[1,1]/P[3,2] - P[1,1]/P[3,2]*t[1]**2/t[2]**2, P[1,1]/P[3,2]*t[0]*t[1]/t[2]**2, P[1,1]/P[3,2]*t[0]/t[2]]])"
   ]
  },
  {
   "cell_type": "code",
   "execution_count": 18,
   "metadata": {},
   "outputs": [
    {
     "data": {
      "text/plain": [
       "True"
      ]
     },
     "execution_count": 18,
     "metadata": {},
     "output_type": "execute_result"
    }
   ],
   "source": [
    "np.allclose(num3, analyt3)"
   ]
  },
  {
   "cell_type": "markdown",
   "metadata": {},
   "source": [
    "### Gradient of $T_k = J_k W$ matrix multiplication"
   ]
  },
  {
   "cell_type": "code",
   "execution_count": 383,
   "metadata": {},
   "outputs": [],
   "source": [
    "def function4(T, Jk, a, b):\n",
    "    A = np.array([[1,0,0,0],\n",
    "                  [0,1,0,0],\n",
    "                  [0,0,1,0]])\n",
    "    T_k = Jk[:3,:3] @ T.R()\n",
    "    result = a @ T_k\n",
    "    # print(result)\n",
    "    result = result @ b\n",
    "    # print(result)\n",
    "    return result"
   ]
  },
  {
   "cell_type": "code",
   "execution_count": 384,
   "metadata": {},
   "outputs": [
    {
     "name": "stdout",
     "output_type": "stream",
     "text": [
      "[     0.              0.              0.          10060.54299069\n",
      "  23842.17805229 -67391.73477399]\n"
     ]
    }
   ],
   "source": [
    "Jk = np.array([[1,0,2],\n",
    "               [0,3,4],\n",
    "               [0,0,0]])\n",
    "Jk_hat = np.eye(4)\n",
    "a = np.random.randn(3)*100\n",
    "b = np.random.randn(3)*100\n",
    "Jk_hat[:3,:3] = Jk\n",
    "num4 = finite_difference_grad(xi, function=function4, Jk=Jk, a = a, b = b)\n",
    "print(num4)"
   ]
  },
  {
   "cell_type": "code",
   "execution_count": 386,
   "metadata": {},
   "outputs": [],
   "source": [
    "xi_torch = lietorch.SE3.exp(torch.tensor(xi[3:].tolist() + xi[:3].tolist()).unsqueeze(0).double())\n",
    "# xi_torch = lietorch.SO3.exp(torch.tensor(xi[:3].tolist()).unsqueeze(0).double())\n",
    "T_auto_ = lietorch.SE3(xi_torch.data)\n",
    "T_auto = lietorch.LieGroupParameter(T_auto_)\n",
    "\n",
    "loss = torch.from_numpy(a) @ (torch.from_numpy(Jk).double() @ T_auto[0].matrix()[:3,:-1])\n",
    "loss_ = loss @ torch.from_numpy(b)\n",
    "loss_.backward()\n",
    "\n",
    "auto4 = T_auto.grad.numpy()"
   ]
  },
  {
   "cell_type": "code",
   "execution_count": 387,
   "metadata": {},
   "outputs": [
    {
     "data": {
      "text/plain": [
       "tensor([[     0.0000,      0.0000,      0.0000,  10060.5421,  23842.1850,\n",
       "         -67391.7344]], dtype=torch.float64)"
      ]
     },
     "execution_count": 387,
     "metadata": {},
     "output_type": "execute_result"
    }
   ],
   "source": [
    "T_auto.grad"
   ]
  },
  {
   "cell_type": "code",
   "execution_count": 388,
   "metadata": {},
   "outputs": [],
   "source": [
    "def dExpxi_dxi(T):\n",
    "    \n",
    "    wc1 = T.T()[:-1,0]\n",
    "    wc2 = T.T()[:-1,1]\n",
    "    wc3 = T.T()[:-1,2]\n",
    "    d = T.T()[:-1,3]\n",
    "    result = np.zeros((16,6))\n",
    "    result[9:12, :3] = np.eye(3)\n",
    "    \n",
    "    # result[:3, 3:] = -mrob.hat3(wc1)\n",
    "    result[:3, 3:] = -mrob.hat3(wc1)\n",
    "    result[3:6, 3:] = -mrob.hat3(wc2)\n",
    "    result[6:9, 3:] = -mrob.hat3(wc3)\n",
    "    result[9:12, 3:] = -mrob.hat3(d)\n",
    "    # result[9:12, 3:] = -mrob.hat3(d)\n",
    "\n",
    "    return result"
   ]
  },
  {
   "cell_type": "code",
   "execution_count": 389,
   "metadata": {},
   "outputs": [],
   "source": [
    "def dExpomega_domega():\n",
    "    \n",
    "    wc1 = np.array([1,0,0])\n",
    "    wc2 = np.array([0,1,0])\n",
    "    wc3 = np.array([0,0,1])\n",
    "    \n",
    "    result = np.zeros((9,3))\n",
    "    \n",
    "    result[:3, ] = -mrob.hat3(wc1)\n",
    "    # result[:3, 3:] = -mrob.hat3(wc1)\n",
    "    result[3:6, ] = -mrob.hat3(wc2)\n",
    "    result[6:9, ] = -mrob.hat3(wc3)\n",
    "    # result[9:12, 3:] = -mrob.hat3(d)\n",
    "    # result[9:12, 3:] = -mrob.hat3(d)\n",
    "\n",
    "    return result"
   ]
  },
  {
   "cell_type": "code",
   "execution_count": 390,
   "metadata": {},
   "outputs": [],
   "source": [
    "analyt42 = np.concatenate((np.zeros((9,3)), np.kron(np.eye(3), Jk) @ dExpxi_dxi(T)[:9,3:]), 1)"
   ]
  },
  {
   "cell_type": "code",
   "execution_count": 397,
   "metadata": {},
   "outputs": [],
   "source": [
    "dL = np.kron(b.T, a)\n",
    "W = T.R()"
   ]
  },
  {
   "cell_type": "code",
   "execution_count": 428,
   "metadata": {},
   "outputs": [],
   "source": [
    "analyt421 = -np.array([0,\n",
    "          0,\n",
    "          0,\n",
    "          - dL[0]*Jk[0,2]*W[1,0] + dL[1]*(Jk[1,1]*W[2,0]-Jk[1,2]*W[1,0]) - dL[3]*Jk[0,2]*W[1,1] + dL[4]*(Jk[1,1]*W[2,1]-Jk[1,2]*W[1,1]) - dL[6]*Jk[0,2]*W[1,2] + dL[7]*(Jk[1,1]*W[2,2]-Jk[1,2]*W[1,2]),\n",
    "          dL[0]*(-Jk[0,0]*W[2,0] + Jk[0,2]*W[0,0]) + dL[1]*Jk[1,2]*W[0,0] + dL[3]*(-Jk[0,0]*W[2,1] + Jk[0,2]*W[0,1]) + dL[4]*Jk[1,2]*W[0,1] + dL[6]*(-Jk[0,0]*W[2,2] + Jk[0,2]*W[0,2]) + dL[7]*Jk[1,2]*W[0,2],\n",
    "          dL[0]*Jk[0,0]*W[1,0] - dL[1]*Jk[1,1]*W[0,0] + dL[3]*Jk[0,0]*W[1,1] - dL[4]*Jk[1,1]*W[0,1] + dL[6]*Jk[0,0]*W[1,2] - dL[7]*Jk[1,1]*W[0,2]])"
   ]
  },
  {
   "cell_type": "code",
   "execution_count": 431,
   "metadata": {},
   "outputs": [
    {
     "data": {
      "text/plain": [
       "True"
      ]
     },
     "execution_count": 431,
     "metadata": {},
     "output_type": "execute_result"
    }
   ],
   "source": [
    "np.allclose(analyt421, num4)"
   ]
  },
  {
   "cell_type": "code",
   "execution_count": 214,
   "metadata": {},
   "outputs": [],
   "source": [
    "A = np.array([[1,0,0,0],\n",
    "            [0,1,0,0],\n",
    "            [0,0,1,0]])\n",
    "analyt4 = np.kron(A, A@Jk_hat) @ dExpxi_dxi(T)"
   ]
  },
  {
   "cell_type": "code",
   "execution_count": 215,
   "metadata": {},
   "outputs": [],
   "source": [
    "analyt41 = np.kron(A, Jk@A) @ dExpxi_dxi(T)"
   ]
  },
  {
   "cell_type": "code",
   "execution_count": 377,
   "metadata": {},
   "outputs": [
    {
     "data": {
      "text/plain": [
       "False"
      ]
     },
     "execution_count": 377,
     "metadata": {},
     "output_type": "execute_result"
    }
   ],
   "source": [
    "np.allclose(num4, analyt42)"
   ]
  },
  {
   "cell_type": "code",
   "execution_count": 379,
   "metadata": {},
   "outputs": [
    {
     "name": "stdout",
     "output_type": "stream",
     "text": [
      "[[ 0.          0.          0.         -0.97640219  1.28816907  0.4882011 ]\n",
      " [ 0.          0.          0.         -4.48480878  0.88833522 -0.66625141]\n",
      " [ 0.          0.          0.          0.          0.          0.        ]\n",
      " [ 0.          0.          0.          1.35455151 -0.50013898 -0.67727575]\n",
      " [ 0.          0.          0.          1.12845723 -2.05404181  1.54053136]\n",
      " [ 0.          0.          0.          0.          0.          0.        ]\n",
      " [ 0.          0.          0.          1.10083104  1.75797652 -0.55041552]\n",
      " [ 0.          0.          0.          1.9008089   3.31538426 -2.48653819]\n",
      " [ 0.          0.          0.          0.          0.          0.        ]]\n"
     ]
    }
   ],
   "source": [
    "print(analyt42)"
   ]
  },
  {
   "cell_type": "code",
   "execution_count": 203,
   "metadata": {},
   "outputs": [
    {
     "data": {
      "text/plain": [
       "(9, 6)"
      ]
     },
     "execution_count": 203,
     "metadata": {},
     "output_type": "execute_result"
    }
   ],
   "source": [
    "analyt42.shape"
   ]
  }
 ],
 "metadata": {
  "kernelspec": {
   "display_name": "gaussian_splatting",
   "language": "python",
   "name": "python3"
  },
  "language_info": {
   "codemirror_mode": {
    "name": "ipython",
    "version": 3
   },
   "file_extension": ".py",
   "mimetype": "text/x-python",
   "name": "python",
   "nbconvert_exporter": "python",
   "pygments_lexer": "ipython3",
   "version": "3.7.13"
  }
 },
 "nbformat": 4,
 "nbformat_minor": 2
}
